{
 "metadata": {
  "language_info": {
   "codemirror_mode": {
    "name": "ipython",
    "version": 3
   },
   "file_extension": ".py",
   "mimetype": "text/x-python",
   "name": "python",
   "nbconvert_exporter": "python",
   "pygments_lexer": "ipython3",
   "version": "3.8.8"
  },
  "orig_nbformat": 2,
  "kernelspec": {
   "name": "python388jvsc74a57bd029dac574d9d107c8210620a0e358af54d0a191fc9fd4114cfd552cce036af100",
   "display_name": "Python 3.8.8 64-bit ('log-ml': conda)"
  }
 },
 "nbformat": 4,
 "nbformat_minor": 2,
 "cells": [
  {
   "source": [
    "# Attention with hidden state vectors and batching"
   ],
   "cell_type": "markdown",
   "metadata": {}
  },
  {
   "cell_type": "code",
   "execution_count": 610,
   "metadata": {},
   "outputs": [],
   "source": [
    "import torch"
   ]
  },
  {
   "cell_type": "code",
   "execution_count": 611,
   "metadata": {},
   "outputs": [],
   "source": [
    "seq_len = 4\n",
    "hidden_dim = 2\n",
    "q_dim = 1\n",
    "attention_dim = 2\n",
    "batch_size = 5"
   ]
  },
  {
   "source": [
    "Create simulated input"
   ],
   "cell_type": "markdown",
   "metadata": {}
  },
  {
   "cell_type": "code",
   "execution_count": 612,
   "metadata": {},
   "outputs": [
    {
     "output_type": "stream",
     "name": "stdout",
     "text": [
      "torch.Size([5, 4, 2])\n"
     ]
    },
    {
     "output_type": "execute_result",
     "data": {
      "text/plain": [
       "tensor([[[-0.4868, -0.1493],\n",
       "         [ 1.0017, -0.7029],\n",
       "         [-1.3288,  1.1382],\n",
       "         [-0.7695, -1.2680]],\n",
       "\n",
       "        [[ 0.0216, -0.3404],\n",
       "         [ 0.4157,  0.8014],\n",
       "         [ 1.4950,  0.4803],\n",
       "         [-0.1161,  0.2666]],\n",
       "\n",
       "        [[-1.0551, -1.5150],\n",
       "         [-0.9041,  0.4531],\n",
       "         [ 0.3374, -1.2191],\n",
       "         [ 1.9478, -0.3364]],\n",
       "\n",
       "        [[-0.1688,  2.3537],\n",
       "         [ 1.0013,  1.3729],\n",
       "         [ 0.2234,  0.0793],\n",
       "         [ 0.4566,  1.0247]],\n",
       "\n",
       "        [[ 0.1285, -0.7833],\n",
       "         [-0.6731, -0.5376],\n",
       "         [-1.3756, -0.8214],\n",
       "         [ 0.9414,  0.7949]]])"
      ]
     },
     "metadata": {},
     "execution_count": 612
    }
   ],
   "source": [
    "x = torch.randn(batch_size, seq_len, hidden_dim)\n",
    "print(x.shape)\n",
    "x"
   ]
  },
  {
   "cell_type": "code",
   "execution_count": 613,
   "metadata": {},
   "outputs": [
    {
     "output_type": "stream",
     "name": "stdout",
     "text": [
      "torch.Size([5, 4, 4, 2])\n"
     ]
    }
   ],
   "source": [
    "x = x.unsqueeze(1)\n",
    "x = x.repeat(1, seq_len, 1, 1)\n",
    "print(x.shape)"
   ]
  },
  {
   "source": [
    "Create a mask to mask out future hidden states."
   ],
   "cell_type": "markdown",
   "metadata": {}
  },
  {
   "cell_type": "code",
   "execution_count": 614,
   "metadata": {},
   "outputs": [
    {
     "output_type": "stream",
     "name": "stdout",
     "text": [
      "torch.Size([5, 2, 4, 4])\n"
     ]
    },
    {
     "output_type": "execute_result",
     "data": {
      "text/plain": [
       "tensor([[[[1., 1., 1., 1.],\n",
       "          [0., 1., 1., 1.],\n",
       "          [0., 0., 1., 1.],\n",
       "          [0., 0., 0., 1.]],\n",
       "\n",
       "         [[1., 1., 1., 1.],\n",
       "          [0., 1., 1., 1.],\n",
       "          [0., 0., 1., 1.],\n",
       "          [0., 0., 0., 1.]]],\n",
       "\n",
       "\n",
       "        [[[1., 1., 1., 1.],\n",
       "          [0., 1., 1., 1.],\n",
       "          [0., 0., 1., 1.],\n",
       "          [0., 0., 0., 1.]],\n",
       "\n",
       "         [[1., 1., 1., 1.],\n",
       "          [0., 1., 1., 1.],\n",
       "          [0., 0., 1., 1.],\n",
       "          [0., 0., 0., 1.]]],\n",
       "\n",
       "\n",
       "        [[[1., 1., 1., 1.],\n",
       "          [0., 1., 1., 1.],\n",
       "          [0., 0., 1., 1.],\n",
       "          [0., 0., 0., 1.]],\n",
       "\n",
       "         [[1., 1., 1., 1.],\n",
       "          [0., 1., 1., 1.],\n",
       "          [0., 0., 1., 1.],\n",
       "          [0., 0., 0., 1.]]],\n",
       "\n",
       "\n",
       "        [[[1., 1., 1., 1.],\n",
       "          [0., 1., 1., 1.],\n",
       "          [0., 0., 1., 1.],\n",
       "          [0., 0., 0., 1.]],\n",
       "\n",
       "         [[1., 1., 1., 1.],\n",
       "          [0., 1., 1., 1.],\n",
       "          [0., 0., 1., 1.],\n",
       "          [0., 0., 0., 1.]]],\n",
       "\n",
       "\n",
       "        [[[1., 1., 1., 1.],\n",
       "          [0., 1., 1., 1.],\n",
       "          [0., 0., 1., 1.],\n",
       "          [0., 0., 0., 1.]],\n",
       "\n",
       "         [[1., 1., 1., 1.],\n",
       "          [0., 1., 1., 1.],\n",
       "          [0., 0., 1., 1.],\n",
       "          [0., 0., 0., 1.]]]])"
      ]
     },
     "metadata": {},
     "execution_count": 614
    }
   ],
   "source": [
    "mask = torch.triu(torch.ones(x.shape[-1], x.shape[1], x.shape[1]))\n",
    "mask = mask.repeat(x.shape[0], 1, 1, 1)\n",
    "print(mask.shape)\n",
    "mask"
   ]
  },
  {
   "cell_type": "code",
   "execution_count": 615,
   "metadata": {},
   "outputs": [
    {
     "output_type": "stream",
     "name": "stdout",
     "text": [
      "torch.Size([5, 2, 4, 4])\n"
     ]
    },
    {
     "output_type": "execute_result",
     "data": {
      "text/plain": [
       "tensor([[[[-0.4868,  0.0216, -1.0551, -0.1688,  0.1285],\n",
       "          [ 0.0000,  0.0000, -0.0000,  0.0000, -0.0000],\n",
       "          [-0.0000,  0.0000,  0.0000,  0.0000, -0.0000],\n",
       "          [-0.0000, -0.0000,  0.0000,  0.0000,  0.0000]],\n",
       "\n",
       "         [[-0.1493, -0.3404, -1.5150,  2.3537, -0.7833],\n",
       "          [-0.0000,  0.0000,  0.0000,  0.0000, -0.0000],\n",
       "          [ 0.0000,  0.0000, -0.0000,  0.0000, -0.0000],\n",
       "          [-0.0000,  0.0000, -0.0000,  0.0000,  0.0000]]],\n",
       "\n",
       "\n",
       "        [[[-0.4868,  0.0216, -1.0551, -0.1688,  0.1285],\n",
       "          [ 1.0017,  0.4157, -0.9041,  1.0013, -0.6731],\n",
       "          [-0.0000,  0.0000,  0.0000,  0.0000, -0.0000],\n",
       "          [-0.0000, -0.0000,  0.0000,  0.0000,  0.0000]],\n",
       "\n",
       "         [[-0.1493, -0.3404, -1.5150,  2.3537, -0.7833],\n",
       "          [-0.7029,  0.8014,  0.4531,  1.3729, -0.5376],\n",
       "          [ 0.0000,  0.0000, -0.0000,  0.0000, -0.0000],\n",
       "          [-0.0000,  0.0000, -0.0000,  0.0000,  0.0000]]],\n",
       "\n",
       "\n",
       "        [[[-0.4868,  0.0216, -1.0551, -0.1688,  0.1285],\n",
       "          [ 1.0017,  0.4157, -0.9041,  1.0013, -0.6731],\n",
       "          [-1.3288,  1.4950,  0.3374,  0.2234, -1.3756],\n",
       "          [-0.0000, -0.0000,  0.0000,  0.0000,  0.0000]],\n",
       "\n",
       "         [[-0.1493, -0.3404, -1.5150,  2.3537, -0.7833],\n",
       "          [-0.7029,  0.8014,  0.4531,  1.3729, -0.5376],\n",
       "          [ 1.1382,  0.4803, -1.2191,  0.0793, -0.8214],\n",
       "          [-0.0000,  0.0000, -0.0000,  0.0000,  0.0000]]],\n",
       "\n",
       "\n",
       "        [[[-0.4868,  0.0216, -1.0551, -0.1688,  0.1285],\n",
       "          [ 1.0017,  0.4157, -0.9041,  1.0013, -0.6731],\n",
       "          [-1.3288,  1.4950,  0.3374,  0.2234, -1.3756],\n",
       "          [-0.7695, -0.1161,  1.9478,  0.4566,  0.9414]],\n",
       "\n",
       "         [[-0.1493, -0.3404, -1.5150,  2.3537, -0.7833],\n",
       "          [-0.7029,  0.8014,  0.4531,  1.3729, -0.5376],\n",
       "          [ 1.1382,  0.4803, -1.2191,  0.0793, -0.8214],\n",
       "          [-1.2680,  0.2666, -0.3364,  1.0247,  0.7949]]]])"
      ]
     },
     "metadata": {},
     "execution_count": 615
    }
   ],
   "source": [
    "masked = torch.mul(mask, x.transpose(1, -1))\n",
    "print(masked.shape)\n",
    "masked.transpose(0, -1)"
   ]
  },
  {
   "cell_type": "code",
   "execution_count": 616,
   "metadata": {},
   "outputs": [
    {
     "output_type": "stream",
     "name": "stdout",
     "text": [
      "torch.Size([5, 4, 4, 2])\n"
     ]
    },
    {
     "output_type": "execute_result",
     "data": {
      "text/plain": [
       "tensor([[[[ 0.7213,  0.2364],\n",
       "          [ 0.0000,  0.0000],\n",
       "          [ 0.0000,  0.0000],\n",
       "          [ 0.0000,  0.0000]],\n",
       "\n",
       "         [[ 0.7213,  0.2364],\n",
       "          [-0.7695,  0.6868],\n",
       "          [ 0.0000,  0.0000],\n",
       "          [ 0.0000,  0.0000]],\n",
       "\n",
       "         [[ 0.7213,  0.2364],\n",
       "          [-0.7695,  0.6868],\n",
       "          [ 0.8268, -0.8830],\n",
       "          [ 0.0000,  0.0000]],\n",
       "\n",
       "         [[ 0.7213,  0.2364],\n",
       "          [-0.7695,  0.6868],\n",
       "          [ 0.8268, -0.8830],\n",
       "          [ 0.9806,  0.9411]]],\n",
       "\n",
       "\n",
       "        [[[ 0.2478,  0.4209],\n",
       "          [ 0.0000,  0.0000],\n",
       "          [ 0.0000,  0.0000],\n",
       "          [ 0.0000,  0.0000]],\n",
       "\n",
       "         [[ 0.2478,  0.4209],\n",
       "          [-0.8734, -0.7998],\n",
       "          [ 0.0000,  0.0000],\n",
       "          [ 0.0000,  0.0000]],\n",
       "\n",
       "         [[ 0.2478,  0.4209],\n",
       "          [-0.8734, -0.7998],\n",
       "          [-0.9928, -0.6462],\n",
       "          [ 0.0000,  0.0000]],\n",
       "\n",
       "         [[ 0.2478,  0.4209],\n",
       "          [-0.8734, -0.7998],\n",
       "          [-0.9928, -0.6462],\n",
       "          [-0.0383, -0.3298]]],\n",
       "\n",
       "\n",
       "        [[[ 0.9949,  0.9704],\n",
       "          [ 0.0000,  0.0000],\n",
       "          [ 0.0000,  0.0000],\n",
       "          [ 0.0000,  0.0000]],\n",
       "\n",
       "         [[ 0.9949,  0.9704],\n",
       "          [ 0.7907, -0.4774],\n",
       "          [ 0.0000,  0.0000],\n",
       "          [ 0.0000,  0.0000]],\n",
       "\n",
       "         [[ 0.9949,  0.9704],\n",
       "          [ 0.7907, -0.4774],\n",
       "          [ 0.4520,  0.9192],\n",
       "          [ 0.0000,  0.0000]],\n",
       "\n",
       "         [[ 0.9949,  0.9704],\n",
       "          [ 0.7907, -0.4774],\n",
       "          [ 0.4520,  0.9192],\n",
       "          [-0.9934,  0.2660]]],\n",
       "\n",
       "\n",
       "        [[[-0.9376, -0.9960],\n",
       "          [ 0.0000,  0.0000],\n",
       "          [ 0.0000,  0.0000],\n",
       "          [ 0.0000,  0.0000]],\n",
       "\n",
       "         [[-0.9376, -0.9960],\n",
       "          [-0.9922, -0.9568],\n",
       "          [ 0.0000,  0.0000],\n",
       "          [ 0.0000,  0.0000]],\n",
       "\n",
       "         [[-0.9376, -0.9960],\n",
       "          [-0.9922, -0.9568],\n",
       "          [-0.4028, -0.1241],\n",
       "          [ 0.0000,  0.0000]],\n",
       "\n",
       "         [[-0.9376, -0.9960],\n",
       "          [-0.9922, -0.9568],\n",
       "          [-0.4028, -0.1241],\n",
       "          [-0.9219, -0.8847]]],\n",
       "\n",
       "\n",
       "        [[[ 0.4262,  0.7722],\n",
       "          [ 0.0000,  0.0000],\n",
       "          [ 0.0000,  0.0000],\n",
       "          [ 0.0000,  0.0000]],\n",
       "\n",
       "         [[ 0.4262,  0.7722],\n",
       "          [ 0.9119,  0.6478],\n",
       "          [ 0.0000,  0.0000],\n",
       "          [ 0.0000,  0.0000]],\n",
       "\n",
       "         [[ 0.4262,  0.7722],\n",
       "          [ 0.9119,  0.6478],\n",
       "          [ 0.9941,  0.8366],\n",
       "          [ 0.0000,  0.0000]],\n",
       "\n",
       "         [[ 0.4262,  0.7722],\n",
       "          [ 0.9119,  0.6478],\n",
       "          [ 0.9941,  0.8366],\n",
       "          [-0.9752, -0.8131]]]])"
      ]
     },
     "metadata": {},
     "execution_count": 616
    }
   ],
   "source": [
    "w_a = torch.randn(hidden_dim, attention_dim)\n",
    "tanh = torch.nn.Tanh()\n",
    "key = tanh(torch.matmul(masked.transpose(1, -1), w_a))\n",
    "print(key.shape)\n",
    "key"
   ]
  },
  {
   "cell_type": "code",
   "execution_count": 617,
   "metadata": {},
   "outputs": [
    {
     "output_type": "stream",
     "name": "stdout",
     "text": [
      "torch.Size([5, 4, 1, 4])\n"
     ]
    },
    {
     "output_type": "execute_result",
     "data": {
      "text/plain": [
       "tensor([[[[ 0.4482,  0.0000,  0.0000,  0.0000]],\n",
       "\n",
       "         [[ 0.4482,  0.3958,  0.0000,  0.0000]],\n",
       "\n",
       "         [[ 0.4482,  0.3958, -0.5604,  0.0000]],\n",
       "\n",
       "         [[ 0.4482,  0.3958, -0.5604,  1.1862]]],\n",
       "\n",
       "\n",
       "        [[[ 0.4702,  0.0000,  0.0000,  0.0000]],\n",
       "\n",
       "         [[ 0.4702, -1.0208,  0.0000,  0.0000]],\n",
       "\n",
       "         [[ 0.4702, -1.0208, -0.9156,  0.0000]],\n",
       "\n",
       "         [[ 0.4702, -1.0208, -0.9156, -0.3192]]],\n",
       "\n",
       "\n",
       "        [[[ 1.2181,  0.0000,  0.0000,  0.0000]],\n",
       "\n",
       "         [[ 1.2181, -0.1942,  0.0000,  0.0000]],\n",
       "\n",
       "         [[ 1.2181, -0.1942,  0.9987,  0.0000]],\n",
       "\n",
       "         [[ 1.2181, -0.1942,  0.9987, -0.0667]]],\n",
       "\n",
       "\n",
       "        [[[-1.2237,  0.0000,  0.0000,  0.0000]],\n",
       "\n",
       "         [[-1.2237, -1.2046,  0.0000,  0.0000]],\n",
       "\n",
       "         [[-1.2237, -1.2046, -0.2430,  0.0000]],\n",
       "\n",
       "         [[-1.2237, -1.2046, -0.2430, -1.1153]]],\n",
       "\n",
       "\n",
       "        [[[ 0.8536,  0.0000,  0.0000,  0.0000]],\n",
       "\n",
       "         [[ 0.8536,  0.8915,  0.0000,  0.0000]],\n",
       "\n",
       "         [[ 0.8536,  0.8915,  1.0932,  0.0000]],\n",
       "\n",
       "         [[ 0.8536,  0.8915,  1.0932, -1.0654]]]])"
      ]
     },
     "metadata": {},
     "execution_count": 617
    }
   ],
   "source": [
    "softmax = torch.nn.Softmax(dim=-1)\n",
    "q = torch.randn(q_dim, attention_dim)\n",
    "temp = torch.matmul(q, key.transpose(-2, -1))\n",
    "print(temp.shape)\n",
    "temp"
   ]
  },
  {
   "source": [
    "Create a mask to not calculcate softmax over zero padding."
   ],
   "cell_type": "markdown",
   "metadata": {}
  },
  {
   "cell_type": "code",
   "execution_count": 618,
   "metadata": {},
   "outputs": [
    {
     "output_type": "stream",
     "name": "stdout",
     "text": [
      "torch.Size([4, 1, 4])\n"
     ]
    },
    {
     "output_type": "execute_result",
     "data": {
      "text/plain": [
       "tensor([[[ 0.0000e+00, -3.4028e+38, -3.4028e+38, -3.4028e+38]],\n",
       "\n",
       "        [[ 0.0000e+00,  0.0000e+00, -3.4028e+38, -3.4028e+38]],\n",
       "\n",
       "        [[ 0.0000e+00,  0.0000e+00,  0.0000e+00, -3.4028e+38]],\n",
       "\n",
       "        [[ 0.0000e+00,  0.0000e+00,  0.0000e+00,  0.0000e+00]]])"
      ]
     },
     "metadata": {},
     "execution_count": 618
    }
   ],
   "source": [
    "softmax_mask = ((torch.tril(torch.ones(temp.shape[1], temp.shape[1]), diagonal=0) != 1) * -float('inf')).nan_to_num(nan=0)\n",
    "softmax_mask = softmax_mask.unsqueeze(1)\n",
    "print(softmax_mask.shape)\n",
    "softmax_mask"
   ]
  },
  {
   "cell_type": "code",
   "execution_count": 619,
   "metadata": {},
   "outputs": [
    {
     "output_type": "execute_result",
     "data": {
      "text/plain": [
       "tensor([[[[ 4.4824e-01, -3.4028e+38, -3.4028e+38, -3.4028e+38]],\n",
       "\n",
       "         [[ 4.4824e-01,  3.9582e-01, -3.4028e+38, -3.4028e+38]],\n",
       "\n",
       "         [[ 4.4824e-01,  3.9582e-01, -5.6035e-01, -3.4028e+38]],\n",
       "\n",
       "         [[ 4.4824e-01,  3.9582e-01, -5.6035e-01,  1.1862e+00]]],\n",
       "\n",
       "\n",
       "        [[[ 4.7017e-01, -3.4028e+38, -3.4028e+38, -3.4028e+38]],\n",
       "\n",
       "         [[ 4.7017e-01, -1.0208e+00, -3.4028e+38, -3.4028e+38]],\n",
       "\n",
       "         [[ 4.7017e-01, -1.0208e+00, -9.1559e-01, -3.4028e+38]],\n",
       "\n",
       "         [[ 4.7017e-01, -1.0208e+00, -9.1559e-01, -3.1917e-01]]],\n",
       "\n",
       "\n",
       "        [[[ 1.2181e+00, -3.4028e+38, -3.4028e+38, -3.4028e+38]],\n",
       "\n",
       "         [[ 1.2181e+00, -1.9424e-01, -3.4028e+38, -3.4028e+38]],\n",
       "\n",
       "         [[ 1.2181e+00, -1.9424e-01,  9.9870e-01, -3.4028e+38]],\n",
       "\n",
       "         [[ 1.2181e+00, -1.9424e-01,  9.9870e-01, -6.6673e-02]]],\n",
       "\n",
       "\n",
       "        [[[-1.2237e+00, -3.4028e+38, -3.4028e+38, -3.4028e+38]],\n",
       "\n",
       "         [[-1.2237e+00, -1.2046e+00, -3.4028e+38, -3.4028e+38]],\n",
       "\n",
       "         [[-1.2237e+00, -1.2046e+00, -2.4296e-01, -3.4028e+38]],\n",
       "\n",
       "         [[-1.2237e+00, -1.2046e+00, -2.4296e-01, -1.1153e+00]]],\n",
       "\n",
       "\n",
       "        [[[ 8.5364e-01, -3.4028e+38, -3.4028e+38, -3.4028e+38]],\n",
       "\n",
       "         [[ 8.5364e-01,  8.9152e-01, -3.4028e+38, -3.4028e+38]],\n",
       "\n",
       "         [[ 8.5364e-01,  8.9152e-01,  1.0932e+00, -3.4028e+38]],\n",
       "\n",
       "         [[ 8.5364e-01,  8.9152e-01,  1.0932e+00, -1.0654e+00]]]])"
      ]
     },
     "metadata": {},
     "execution_count": 619
    }
   ],
   "source": [
    "temp = temp + softmax_mask\n",
    "temp"
   ]
  },
  {
   "cell_type": "code",
   "execution_count": 620,
   "metadata": {},
   "outputs": [
    {
     "output_type": "stream",
     "name": "stdout",
     "text": [
      "torch.Size([5, 4, 1, 4])\n"
     ]
    }
   ],
   "source": [
    "d = softmax(temp)\n",
    "print(d.shape)"
   ]
  },
  {
   "source": [
    "Plot results, averaging over batch and q."
   ],
   "cell_type": "markdown",
   "metadata": {}
  },
  {
   "cell_type": "code",
   "execution_count": 621,
   "metadata": {},
   "outputs": [
    {
     "output_type": "display_data",
     "data": {
      "text/plain": "<Figure size 288x288 with 1 Axes>",
      "image/svg+xml": "<?xml version=\"1.0\" encoding=\"utf-8\" standalone=\"no\"?>\n<!DOCTYPE svg PUBLIC \"-//W3C//DTD SVG 1.1//EN\"\n  \"http://www.w3.org/Graphics/SVG/1.1/DTD/svg11.dtd\">\n<!-- Created with matplotlib (https://matplotlib.org/) -->\n<svg height=\"257.778125pt\" version=\"1.1\" viewBox=\"0 0 250.9625 257.778125\" width=\"250.9625pt\" xmlns=\"http://www.w3.org/2000/svg\" xmlns:xlink=\"http://www.w3.org/1999/xlink\">\n <metadata>\n  <rdf:RDF xmlns:cc=\"http://creativecommons.org/ns#\" xmlns:dc=\"http://purl.org/dc/elements/1.1/\" xmlns:rdf=\"http://www.w3.org/1999/02/22-rdf-syntax-ns#\">\n   <cc:Work>\n    <dc:type rdf:resource=\"http://purl.org/dc/dcmitype/StillImage\"/>\n    <dc:date>2021-04-30T08:41:44.984512</dc:date>\n    <dc:format>image/svg+xml</dc:format>\n    <dc:creator>\n     <cc:Agent>\n      <dc:title>Matplotlib v3.3.4, https://matplotlib.org/</dc:title>\n     </cc:Agent>\n    </dc:creator>\n   </cc:Work>\n  </rdf:RDF>\n </metadata>\n <defs>\n  <style type=\"text/css\">*{stroke-linecap:butt;stroke-linejoin:round;}</style>\n </defs>\n <g id=\"figure_1\">\n  <g id=\"patch_1\">\n   <path d=\"M 0 257.778125 \nL 250.9625 257.778125 \nL 250.9625 0 \nL 0 0 \nz\n\" style=\"fill:none;\"/>\n  </g>\n  <g id=\"axes_1\">\n   <g id=\"patch_2\">\n    <path d=\"M 20.5625 247.078125 \nL 243.7625 247.078125 \nL 243.7625 23.878125 \nL 20.5625 23.878125 \nz\n\" style=\"fill:#ffffff;\"/>\n   </g>\n   <g clip-path=\"url(#p79dff52e2b)\">\n    <image height=\"224\" id=\"image32ca77afd3\" transform=\"scale(1 -1)translate(0 -224)\" width=\"224\" x=\"20.5625\" xlink:href=\"data:image/png;base64,\niVBORw0KGgoAAAANSUhEUgAAAOAAAADgCAYAAAAaLWrhAAAC7ElEQVR4nO3VsUmDYRSG0fwSJAgqdkFbB4hTOEnGEedwESsHcAMLC1FIgqDECazk44F4zgQvXB7udLO+288O2MXzrp4w1OZqUU8YavH2VU8Y6qgeAP+ZACEkQAgJEEIChJAAISRACAkQQgKEkAAhJEAICRBCAoSQACEkQAgJEEIChJAAISRACAkQQgKEkAAhJEAICRBCAoSQACEkQAgJEEIChJAAISRACAkQQgKEkAAhJEAICRBCAoSQACEkQAgJEEIChJAAISRACAkQQgKEkAAhJEAICRBCAoSQACEkQAgJEEIChJAAISRACM23y6neMNTJ63E9YajP88O+3+nDUz1hKB8QQgKEkAAhJEAICRBCAoSQACEkQAgJEEIChJAAISRACAkQQgKEkAAhJEAICRBCAoSQACEkQAgJEEIChJAAISRACAkQQgKEkAAhJEAICRBCAoSQACEkQAgJEEIChJAAISRACAkQQgKEkAAhJEAICRBCAoSQACEkQAgJEEIChJAAISRACAkQQgKEkAAhJEAICRBCAoSQACE0n60+6g1DvW/O6glDLe8f6wn8gQ8IIQFCSIAQEiCEBAghAUJIgBASIIQECCEBQkiAEBIghAQIIQFCSIAQEiCEBAghAUJIgBASIIQECCEBQkiAEBIghAQIIQFCSIAQEiCEBAghAUJIgBASIIQECCEBQkiAEBIghAQIIQFCSIAQEiCEBAghAUJIgBASIIQECCEBQkiAEBIghAQIIQFCSIAQEiCEBAghAUJIgBCavl+u9/WIkW4vV/UE+JUPCCEBQkiAEBIghAQIIQFCSIAQEiCEBAghAUJIgBASIIQECCEBQkiAEBIghAQIIQFCSIAQEiCEBAghAUJIgBASIIQECCEBQkiAEBIghAQIIQFCSIAQEiCEBAghAUJIgBASIIQECCEBQkiAEBIghAQIIQFCSIAQEiCEBAghAUJIgBASIIQECCEBQkiAEBIghAQIIQFCSIAQ+gEevBWAuzxXmwAAAABJRU5ErkJggg==\" y=\"-23.078125\"/>\n   </g>\n   <g id=\"matplotlib.axis_1\">\n    <g id=\"xtick_1\">\n     <g id=\"line2d_1\">\n      <defs>\n       <path d=\"M 0 0 \nL 0 3.5 \n\" id=\"mdbca7a32b5\" style=\"stroke:#000000;stroke-width:0.8;\"/>\n      </defs>\n      <g>\n       <use style=\"stroke:#000000;stroke-width:0.8;\" x=\"48.4625\" xlink:href=\"#mdbca7a32b5\" y=\"247.078125\"/>\n      </g>\n     </g>\n     <g id=\"line2d_2\">\n      <defs>\n       <path d=\"M 0 0 \nL 0 -3.5 \n\" id=\"m334d11979a\" style=\"stroke:#000000;stroke-width:0.8;\"/>\n      </defs>\n      <g>\n       <use style=\"stroke:#000000;stroke-width:0.8;\" x=\"48.4625\" xlink:href=\"#m334d11979a\" y=\"23.878125\"/>\n      </g>\n     </g>\n     <g id=\"text_1\">\n      <!-- 0 -->\n      <g transform=\"translate(45.28125 14.798438)scale(0.1 -0.1)\">\n       <defs>\n        <path d=\"M 31.78125 66.40625 \nQ 24.171875 66.40625 20.328125 58.90625 \nQ 16.5 51.421875 16.5 36.375 \nQ 16.5 21.390625 20.328125 13.890625 \nQ 24.171875 6.390625 31.78125 6.390625 \nQ 39.453125 6.390625 43.28125 13.890625 \nQ 47.125 21.390625 47.125 36.375 \nQ 47.125 51.421875 43.28125 58.90625 \nQ 39.453125 66.40625 31.78125 66.40625 \nz\nM 31.78125 74.21875 \nQ 44.046875 74.21875 50.515625 64.515625 \nQ 56.984375 54.828125 56.984375 36.375 \nQ 56.984375 17.96875 50.515625 8.265625 \nQ 44.046875 -1.421875 31.78125 -1.421875 \nQ 19.53125 -1.421875 13.0625 8.265625 \nQ 6.59375 17.96875 6.59375 36.375 \nQ 6.59375 54.828125 13.0625 64.515625 \nQ 19.53125 74.21875 31.78125 74.21875 \nz\n\" id=\"DejaVuSans-48\"/>\n       </defs>\n       <use xlink:href=\"#DejaVuSans-48\"/>\n      </g>\n     </g>\n    </g>\n    <g id=\"xtick_2\">\n     <g id=\"line2d_3\">\n      <g>\n       <use style=\"stroke:#000000;stroke-width:0.8;\" x=\"104.2625\" xlink:href=\"#mdbca7a32b5\" y=\"247.078125\"/>\n      </g>\n     </g>\n     <g id=\"line2d_4\">\n      <g>\n       <use style=\"stroke:#000000;stroke-width:0.8;\" x=\"104.2625\" xlink:href=\"#m334d11979a\" y=\"23.878125\"/>\n      </g>\n     </g>\n     <g id=\"text_2\">\n      <!-- 1 -->\n      <g transform=\"translate(101.08125 14.798438)scale(0.1 -0.1)\">\n       <defs>\n        <path d=\"M 12.40625 8.296875 \nL 28.515625 8.296875 \nL 28.515625 63.921875 \nL 10.984375 60.40625 \nL 10.984375 69.390625 \nL 28.421875 72.90625 \nL 38.28125 72.90625 \nL 38.28125 8.296875 \nL 54.390625 8.296875 \nL 54.390625 0 \nL 12.40625 0 \nz\n\" id=\"DejaVuSans-49\"/>\n       </defs>\n       <use xlink:href=\"#DejaVuSans-49\"/>\n      </g>\n     </g>\n    </g>\n    <g id=\"xtick_3\">\n     <g id=\"line2d_5\">\n      <g>\n       <use style=\"stroke:#000000;stroke-width:0.8;\" x=\"160.0625\" xlink:href=\"#mdbca7a32b5\" y=\"247.078125\"/>\n      </g>\n     </g>\n     <g id=\"line2d_6\">\n      <g>\n       <use style=\"stroke:#000000;stroke-width:0.8;\" x=\"160.0625\" xlink:href=\"#m334d11979a\" y=\"23.878125\"/>\n      </g>\n     </g>\n     <g id=\"text_3\">\n      <!-- 2 -->\n      <g transform=\"translate(156.88125 14.798438)scale(0.1 -0.1)\">\n       <defs>\n        <path d=\"M 19.1875 8.296875 \nL 53.609375 8.296875 \nL 53.609375 0 \nL 7.328125 0 \nL 7.328125 8.296875 \nQ 12.9375 14.109375 22.625 23.890625 \nQ 32.328125 33.6875 34.8125 36.53125 \nQ 39.546875 41.84375 41.421875 45.53125 \nQ 43.3125 49.21875 43.3125 52.78125 \nQ 43.3125 58.59375 39.234375 62.25 \nQ 35.15625 65.921875 28.609375 65.921875 \nQ 23.96875 65.921875 18.8125 64.3125 \nQ 13.671875 62.703125 7.8125 59.421875 \nL 7.8125 69.390625 \nQ 13.765625 71.78125 18.9375 73 \nQ 24.125 74.21875 28.421875 74.21875 \nQ 39.75 74.21875 46.484375 68.546875 \nQ 53.21875 62.890625 53.21875 53.421875 \nQ 53.21875 48.921875 51.53125 44.890625 \nQ 49.859375 40.875 45.40625 35.40625 \nQ 44.1875 33.984375 37.640625 27.21875 \nQ 31.109375 20.453125 19.1875 8.296875 \nz\n\" id=\"DejaVuSans-50\"/>\n       </defs>\n       <use xlink:href=\"#DejaVuSans-50\"/>\n      </g>\n     </g>\n    </g>\n    <g id=\"xtick_4\">\n     <g id=\"line2d_7\">\n      <g>\n       <use style=\"stroke:#000000;stroke-width:0.8;\" x=\"215.8625\" xlink:href=\"#mdbca7a32b5\" y=\"247.078125\"/>\n      </g>\n     </g>\n     <g id=\"line2d_8\">\n      <g>\n       <use style=\"stroke:#000000;stroke-width:0.8;\" x=\"215.8625\" xlink:href=\"#m334d11979a\" y=\"23.878125\"/>\n      </g>\n     </g>\n     <g id=\"text_4\">\n      <!-- 3 -->\n      <g transform=\"translate(212.68125 14.798438)scale(0.1 -0.1)\">\n       <defs>\n        <path d=\"M 40.578125 39.3125 \nQ 47.65625 37.796875 51.625 33 \nQ 55.609375 28.21875 55.609375 21.1875 \nQ 55.609375 10.40625 48.1875 4.484375 \nQ 40.765625 -1.421875 27.09375 -1.421875 \nQ 22.515625 -1.421875 17.65625 -0.515625 \nQ 12.796875 0.390625 7.625 2.203125 \nL 7.625 11.71875 \nQ 11.71875 9.328125 16.59375 8.109375 \nQ 21.484375 6.890625 26.8125 6.890625 \nQ 36.078125 6.890625 40.9375 10.546875 \nQ 45.796875 14.203125 45.796875 21.1875 \nQ 45.796875 27.640625 41.28125 31.265625 \nQ 36.765625 34.90625 28.71875 34.90625 \nL 20.21875 34.90625 \nL 20.21875 43.015625 \nL 29.109375 43.015625 \nQ 36.375 43.015625 40.234375 45.921875 \nQ 44.09375 48.828125 44.09375 54.296875 \nQ 44.09375 59.90625 40.109375 62.90625 \nQ 36.140625 65.921875 28.71875 65.921875 \nQ 24.65625 65.921875 20.015625 65.03125 \nQ 15.375 64.15625 9.8125 62.3125 \nL 9.8125 71.09375 \nQ 15.4375 72.65625 20.34375 73.4375 \nQ 25.25 74.21875 29.59375 74.21875 \nQ 40.828125 74.21875 47.359375 69.109375 \nQ 53.90625 64.015625 53.90625 55.328125 \nQ 53.90625 49.265625 50.4375 45.09375 \nQ 46.96875 40.921875 40.578125 39.3125 \nz\n\" id=\"DejaVuSans-51\"/>\n       </defs>\n       <use xlink:href=\"#DejaVuSans-51\"/>\n      </g>\n     </g>\n    </g>\n   </g>\n   <g id=\"matplotlib.axis_2\">\n    <g id=\"ytick_1\">\n     <g id=\"line2d_9\">\n      <defs>\n       <path d=\"M 0 0 \nL -3.5 0 \n\" id=\"mf197a624a6\" style=\"stroke:#000000;stroke-width:0.8;\"/>\n      </defs>\n      <g>\n       <use style=\"stroke:#000000;stroke-width:0.8;\" x=\"20.5625\" xlink:href=\"#mf197a624a6\" y=\"51.778125\"/>\n      </g>\n     </g>\n     <g id=\"text_5\">\n      <!-- 0 -->\n      <g transform=\"translate(7.2 55.577344)scale(0.1 -0.1)\">\n       <use xlink:href=\"#DejaVuSans-48\"/>\n      </g>\n     </g>\n    </g>\n    <g id=\"ytick_2\">\n     <g id=\"line2d_10\">\n      <g>\n       <use style=\"stroke:#000000;stroke-width:0.8;\" x=\"20.5625\" xlink:href=\"#mf197a624a6\" y=\"107.578125\"/>\n      </g>\n     </g>\n     <g id=\"text_6\">\n      <!-- 1 -->\n      <g transform=\"translate(7.2 111.377344)scale(0.1 -0.1)\">\n       <use xlink:href=\"#DejaVuSans-49\"/>\n      </g>\n     </g>\n    </g>\n    <g id=\"ytick_3\">\n     <g id=\"line2d_11\">\n      <g>\n       <use style=\"stroke:#000000;stroke-width:0.8;\" x=\"20.5625\" xlink:href=\"#mf197a624a6\" y=\"163.378125\"/>\n      </g>\n     </g>\n     <g id=\"text_7\">\n      <!-- 2 -->\n      <g transform=\"translate(7.2 167.177344)scale(0.1 -0.1)\">\n       <use xlink:href=\"#DejaVuSans-50\"/>\n      </g>\n     </g>\n    </g>\n    <g id=\"ytick_4\">\n     <g id=\"line2d_12\">\n      <g>\n       <use style=\"stroke:#000000;stroke-width:0.8;\" x=\"20.5625\" xlink:href=\"#mf197a624a6\" y=\"219.178125\"/>\n      </g>\n     </g>\n     <g id=\"text_8\">\n      <!-- 3 -->\n      <g transform=\"translate(7.2 222.977344)scale(0.1 -0.1)\">\n       <use xlink:href=\"#DejaVuSans-51\"/>\n      </g>\n     </g>\n    </g>\n   </g>\n   <g id=\"patch_3\">\n    <path d=\"M 20.5625 247.078125 \nL 20.5625 23.878125 \n\" style=\"fill:none;stroke:#000000;stroke-linecap:square;stroke-linejoin:miter;stroke-width:0.8;\"/>\n   </g>\n   <g id=\"patch_4\">\n    <path d=\"M 243.7625 247.078125 \nL 243.7625 23.878125 \n\" style=\"fill:none;stroke:#000000;stroke-linecap:square;stroke-linejoin:miter;stroke-width:0.8;\"/>\n   </g>\n   <g id=\"patch_5\">\n    <path d=\"M 20.5625 247.078125 \nL 243.7625 247.078125 \n\" style=\"fill:none;stroke:#000000;stroke-linecap:square;stroke-linejoin:miter;stroke-width:0.8;\"/>\n   </g>\n   <g id=\"patch_6\">\n    <path d=\"M 20.5625 23.878125 \nL 243.7625 23.878125 \n\" style=\"fill:none;stroke:#000000;stroke-linecap:square;stroke-linejoin:miter;stroke-width:0.8;\"/>\n   </g>\n  </g>\n </g>\n <defs>\n  <clipPath id=\"p79dff52e2b\">\n   <rect height=\"223.2\" width=\"223.2\" x=\"20.5625\" y=\"23.878125\"/>\n  </clipPath>\n </defs>\n</svg>\n",
      "image/png": "[encoded data removed]"
     },
     "metadata": {
      "needs_background": "light"
     }
    }
   ],
   "source": [
    "import matplotlib.pyplot as plt\n",
    "plt.matshow(d.mean(dim=0).mean(dim=1)) # Average over batch and q\n",
    "plt.show()"
   ]
  },
  {
   "source": [
    "Final weighted sum with dimension batch x sequence length x q dim x hidden dim"
   ],
   "cell_type": "markdown",
   "metadata": {}
  },
  {
   "cell_type": "code",
   "execution_count": 622,
   "metadata": {},
   "outputs": [
    {
     "output_type": "stream",
     "name": "stdout",
     "text": [
      "torch.Size([5, 4, 1, 4])\n",
      "torch.Size([5, 2, 4, 4])\n",
      "torch.Size([5, 4, 1, 2])\n"
     ]
    },
    {
     "output_type": "execute_result",
     "data": {
      "text/plain": [
       "tensor([[[-0.4868, -0.1493],\n",
       "         [ 0.2380, -0.4189],\n",
       "         [-0.0090, -0.1734],\n",
       "         [-0.3701, -0.6931]],\n",
       "\n",
       "        [[ 0.0216, -0.3404],\n",
       "         [ 0.0940, -0.1305],\n",
       "         [ 0.3315, -0.0270],\n",
       "         [ 0.2262,  0.0421]],\n",
       "\n",
       "        [[-1.0551, -1.5150],\n",
       "         [-1.0255, -1.1295],\n",
       "         [-0.4907, -1.1647],\n",
       "         [-0.2003, -1.0660]],\n",
       "\n",
       "        [[-0.1688,  2.3537],\n",
       "         [ 0.4219,  1.8586],\n",
       "         [ 0.3090,  0.8460],\n",
       "         [ 0.3373,  0.8804]],\n",
       "\n",
       "        [[ 0.1285, -0.7833],\n",
       "         [-0.2799, -0.6581],\n",
       "         [-0.7006, -0.7208],\n",
       "         [-0.6309, -0.6565]]])"
      ]
     },
     "metadata": {},
     "execution_count": 622
    }
   ],
   "source": [
    "print(d.shape)\n",
    "print(masked.shape)\n",
    "a = torch.matmul(d, masked.transpose(1, -1))\n",
    "print(a.shape)\n",
    "a.squeeze()"
   ]
  },
  {
   "cell_type": "code",
   "execution_count": null,
   "metadata": {},
   "outputs": [],
   "source": []
  }
 ]
}