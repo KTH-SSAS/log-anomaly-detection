{
 "metadata": {
  "language_info": {
   "codemirror_mode": {
    "name": "ipython",
    "version": 3
   },
   "file_extension": ".py",
   "mimetype": "text/x-python",
   "name": "python",
   "nbconvert_exporter": "python",
   "pygments_lexer": "ipython3",
   "version": "3.8.8"
  },
  "orig_nbformat": 2,
  "kernelspec": {
   "name": "python388jvsc74a57bd029dac574d9d107c8210620a0e358af54d0a191fc9fd4114cfd552cce036af100",
   "display_name": "Python 3.8.8 64-bit ('log-ml': conda)"
  }
 },
 "nbformat": 4,
 "nbformat_minor": 2,
 "cells": [
  {
   "source": [
    "# Attention with hidden state vectors"
   ],
   "cell_type": "markdown",
   "metadata": {}
  },
  {
   "cell_type": "code",
   "execution_count": null,
   "metadata": {},
   "outputs": [],
   "source": [
    "import torch"
   ]
  },
  {
   "cell_type": "code",
   "execution_count": null,
   "metadata": {},
   "outputs": [],
   "source": [
    "seq_len = 4\n",
    "hidden_dim = 3"
   ]
  },
  {
   "cell_type": "code",
   "execution_count": null,
   "metadata": {},
   "outputs": [],
   "source": [
    "x = torch.randn(seq_len, hidden_dim)\n",
    "print(x.shape)\n",
    "x"
   ]
  },
  {
   "cell_type": "code",
   "execution_count": null,
   "metadata": {},
   "outputs": [],
   "source": [
    "x = x.repeat(seq_len, 1, 1)\n",
    "print(x.shape)"
   ]
  },
  {
   "cell_type": "code",
   "execution_count": null,
   "metadata": {},
   "outputs": [],
   "source": [
    "mask = torch.triu(torch.ones(x.shape[-1], x.shape[0], x.shape[0]))\n",
    "mask"
   ]
  },
  {
   "cell_type": "code",
   "execution_count": null,
   "metadata": {},
   "outputs": [],
   "source": [
    "masked = torch.mul(mask, x.transpose(0, -1))\n",
    "print(masked.shape)\n",
    "masked.transpose(0, -1)"
   ]
  },
  {
   "cell_type": "code",
   "execution_count": null,
   "metadata": {},
   "outputs": [],
   "source": [
    "attention_dim = 2\n",
    "w_a = torch.randn(hidden_dim, attention_dim)\n",
    "tanh = torch.nn.Tanh()\n",
    "key = tanh(torch.matmul(masked.transpose(0, -1), w_a))\n",
    "print(key.shape)\n",
    "key"
   ]
  },
  {
   "cell_type": "code",
   "execution_count": null,
   "metadata": {},
   "outputs": [],
   "source": [
    "q_dim = 1\n",
    "softmax = torch.nn.Softmax(dim=-1)\n",
    "q = torch.randn(q_dim, attention_dim)\n",
    "temp = torch.matmul(q, key.transpose(1, 2))\n",
    "print(temp.shape)\n",
    "temp"
   ]
  },
  {
   "cell_type": "code",
   "execution_count": null,
   "metadata": {},
   "outputs": [],
   "source": [
    "softmax_mask = ((torch.tril(torch.ones(temp.shape[0], temp.shape[0]), diagonal=0) != 1) * -float(\"inf\")).nan_to_num(\n",
    "    nan=0\n",
    ")\n",
    "softmax_mask = softmax_mask.unsqueeze(1)\n",
    "softmax_mask"
   ]
  },
  {
   "cell_type": "code",
   "execution_count": null,
   "metadata": {},
   "outputs": [],
   "source": [
    "temp = temp + softmax_mask\n",
    "temp"
   ]
  },
  {
   "cell_type": "code",
   "execution_count": null,
   "metadata": {},
   "outputs": [],
   "source": [
    "d = softmax(temp)\n",
    "print(d.shape)\n",
    "d.squeeze()"
   ]
  },
  {
   "cell_type": "code",
   "execution_count": null,
   "metadata": {},
   "outputs": [],
   "source": [
    "import matplotlib.pyplot as plt\n",
    "\n",
    "plt.matshow(d.squeeze())\n",
    "plt.show()"
   ]
  },
  {
   "cell_type": "code",
   "execution_count": null,
   "metadata": {},
   "outputs": [],
   "source": [
    "a = torch.matmul(d, masked.unsqueeze(-1)).transpose(0, 1)\n",
    "print(a.shape)\n",
    "a.squeeze()"
   ]
  }
 ]
}