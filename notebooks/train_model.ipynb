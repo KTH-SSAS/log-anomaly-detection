{
 "cells": [
  {
   "cell_type": "markdown",
   "metadata": {
    "id": "vHjrroZ3KHgR"
   },
   "source": [
    "*New and tidied up notebook for faster and easier testing of the models*"
   ]
  },
  {
   "cell_type": "code",
   "execution_count": 1,
   "metadata": {
    "executionInfo": {
     "elapsed": 1825,
     "status": "ok",
     "timestamp": 1616791087071,
     "user": {
      "displayName": "김영우",
      "photoUrl": "",
      "userId": "05084645099903710941"
     },
     "user_tz": -60
    },
    "id": "-jHRSWrKAiLV"
   },
   "outputs": [
    {
     "name": "stdout",
     "output_type": "stream",
     "text": [
      "False\n"
     ]
    }
   ],
   "source": [
    "import torch\n",
    "import torch.nn as nn\n",
    "import torch.nn.functional as F\n",
    "import torch.optim as optim\n",
    "import numpy as np\n",
    "import matplotlib.pyplot as plt\n",
    "import os\n",
    "from tqdm.notebook import tqdm\n",
    "\n",
    "import wandb\n",
    "from log_analyzer.application import Application\n",
    "\n",
    "from log_analyzer.train_loop import init_from_config_classes, train_model, eval_model, get_model_config\n",
    "from log_analyzer.config import TrainerConfig\n",
    "import log_analyzer.data.data_loader as data_utils\n",
    "\n",
    "print(cuda := torch.cuda.is_available())\n",
    "# torch.manual_seed(1)"
   ]
  },
  {
   "cell_type": "markdown",
   "metadata": {
    "id": "N7-RVMKFGxV_"
   },
   "source": [
    "# Parameter setting"
   ]
  },
  {
   "cell_type": "code",
   "execution_count": 2,
   "metadata": {},
   "outputs": [],
   "source": [
    "def set_args(bidir, model_type, token_level):\n",
    "    \"\"\"Prepares a dictionary of settings that can be used for testing.\"\"\"\n",
    "    args = {}\n",
    "\n",
    "    args[\"bidirectional\"] = bidir\n",
    "    args[\"model_type\"] = model_type\n",
    "    args[\"tokenization\"] = token_level\n",
    "    args[\"counts_file\"] = \"../data/counts.json\"\n",
    "    trainer_config = TrainerConfig.init_from_file(\"../config/lanl_config_trainer.json\")\n",
    "    trainer_config.train_files = [\"6.csv\", \"7.csv\"]\n",
    "    trainer_config.test_files = [\"8.csv\"]\n",
    "    trainer_config.train_batch_size = 64\n",
    "    trainer_config.eval_batch_size = 1\n",
    "    args[\"trainer_config\"] = trainer_config\n",
    "\n",
    "    model_config_file = f\"../config/lanl_config_{model_type}.json\"\n",
    "\n",
    "    args[\"model_config\"] = get_model_config(model_config_file, model_type)\n",
    "\n",
    "    args[\"data_folder\"] = \"../data/test_data\"\n",
    "\n",
    "    # Return the prepared args\n",
    "    return args"
   ]
  },
  {
   "cell_type": "code",
   "execution_count": 3,
   "metadata": {},
   "outputs": [
    {
     "data": {
      "text/html": [
       "W&B syncing is set to `offline` in this directory.  <br/>\n",
       "Run `wandb online` or set WANDB_MODE=online to enable cloud syncing."
      ],
      "text/plain": [
       "<IPython.core.display.HTML object>"
      ]
     },
     "metadata": {},
     "output_type": "display_data"
    },
    {
     "data": {
      "text/html": [
       "<button onClick=\"this.nextSibling.style.display='block';this.style.display='none';\">Display W&B run</button><iframe src=\"?jupyter=true\" style=\"border:none;width:100%;height:420px;display:none;\"></iframe>"
      ],
      "text/plain": [
       "<wandb.sdk.wandb_run.Run at 0x7f9293f3be20>"
      ]
     },
     "execution_count": 3,
     "metadata": {},
     "output_type": "execute_result"
    }
   ],
   "source": [
    "# Note: hyperparameters, such as learning rate and patience, are read in from the config file.\n",
    "#       (Change them there if you want to try other values)\n",
    "\n",
    "# Specify the configuration of the model\n",
    "# All combinations currently supported except bidir + tiered\n",
    "bidir = False\n",
    "model_type = \"lstm\"  # 'lstm', 'tiered-lstm', 'transformer'\n",
    "token_level = \"word-global\"  # 'word' or 'char'\n",
    "\n",
    "# Get the args for the model version defined above\n",
    "args = set_args(bidir, model_type, token_level)\n",
    "\n",
    "os.environ[\"WANDB_MODE\"] = \"offline\"  # 'online' to auto-sync, 'offline' otherwise\n",
    "os.environ[\"WANDB_NOTEBOOK_NAME\"] = \"train_model.ipynb\"\n",
    "\n",
    "wandb.init(project=\"logml\", entity=\"log-data-ml\", config=args)"
   ]
  },
  {
   "cell_type": "markdown",
   "metadata": {
    "id": "AZZoblRnxAmS"
   },
   "source": [
    "\n",
    "# Train model\n",
    "### (One epoch, full dataset)\n"
   ]
  },
  {
   "cell_type": "code",
   "execution_count": 4,
   "metadata": {
    "colab": {
     "base_uri": "https://localhost:8080/"
    },
    "executionInfo": {
     "elapsed": 11235,
     "status": "ok",
     "timestamp": 1616791096516,
     "user": {
      "displayName": "김영우",
      "photoUrl": "",
      "userId": "05084645099903710941"
     },
     "user_tz": -60
    },
    "id": "TuqWq1c6xBTb",
    "outputId": "23c787ba-c1df-44be-bfd8-0ccf5f9b2d23",
    "scrolled": true,
    "tags": []
   },
   "outputs": [
    {
     "name": "stdout",
     "output_type": "stream",
     "text": [
      "Generated vocab with 19405 words.\n"
     ]
    },
    {
     "name": "stderr",
     "output_type": "stream",
     "text": [
      "Epoch   :   0%|          | 0/1 [00:00<?, ?it/s]\n",
      "\u001b[A\n",
      "Valid: 0: 100%|██████████| 40/40 [00:00<00:00, 361.13it/s]\n",
      "\n",
      "\u001b[A\n",
      "Valid: 1: 100%|██████████| 40/40 [00:00<00:00, 306.34it/s]\n",
      "\n",
      "\u001b[A\n",
      "Valid: 2: 100%|██████████| 40/40 [00:00<00:00, 274.63it/s]\n",
      "\n",
      "\u001b[A\n",
      "Valid: 3: 100%|██████████| 40/40 [00:00<00:00, 353.87it/s]\n",
      "\n",
      "\u001b[A\n",
      "Valid: 4: 100%|██████████| 40/40 [00:00<00:00, 200.54it/s]\n",
      "Training: 100%|██████████| 6/6 [00:02<00:00,  2.86it/s]\n",
      "Valid: 5: 100%|██████████| 40/40 [00:00<00:00, 316.53it/s]\n",
      "Epoch   : 100%|██████████| 1/1 [00:02<00:00,  2.23s/it]\n",
      "Test: 100%|██████████| 200/200 [00:00<00:00, 283.16it/s]\n",
      "100%|██████████| 1/1 [00:00<00:00, 8577.31it/s]\n",
      "100%|██████████| 1/1 [00:00<00:00, 1500.65it/s]\n",
      "100%|██████████| 1/1 [00:00<00:00, 2377.72it/s]\n"
     ]
    },
    {
     "data": {
      "text/plain": [
       "{'eval/loss': 9.518586158752441,\n",
       " 'eval/token_accuracy': 0.25444444444444436,\n",
       " 'eval/token_perplexity': 13610.333047182772,\n",
       " 'eval/AUC': 0.8844221105527638,\n",
       " 'eval/AP': 0.041666666666666664,\n",
       " 'eval/AUC_(normalised)': 0.8844221105527638,\n",
       " 'eval/AP_(normalised)': 0.041666666666666664}"
      ]
     },
     "execution_count": 4,
     "metadata": {},
     "output_type": "execute_result"
    },
    {
     "data": {
      "image/png": "[encoded data removed]",
      "text/plain": [
       "<Figure size 432x288 with 1 Axes>"
      ]
     },
     "metadata": {
      "needs_background": "light"
     },
     "output_type": "display_data"
    }
   ],
   "source": [
    "# Create and train the model\n",
    "trainer, evaluator, train_loader, val_loader, test_loader = init_from_config_classes(**args)\n",
    "train_losses = train_model(trainer, train_loader, val_loader)\n",
    "test_losses = eval_model(evaluator, test_loader, store_eval_data=True)\n",
    "# Evaluate the model\n",
    "evaluator.run_all()"
   ]
  },
  {
   "cell_type": "code",
   "execution_count": 5,
   "metadata": {
    "colab": {
     "base_uri": "https://localhost:8080/",
     "height": 296
    },
    "executionInfo": {
     "elapsed": 11229,
     "status": "ok",
     "timestamp": 1616791096517,
     "user": {
      "displayName": "김영우",
      "photoUrl": "",
      "userId": "05084645099903710941"
     },
     "user_tz": -60
    },
    "id": "wgNW3kYvxD85",
    "outputId": "6c6abf92-1313-4a07-8d68-1d58bde4bd6b"
   },
   "outputs": [
    {
     "data": {
      "text/plain": [
       "Text(0.5, 1.0, 'Training losses - Forward lstm, word-global token.')"
      ]
     },
     "execution_count": 5,
     "metadata": {},
     "output_type": "execute_result"
    },
    {
     "data": {
      "image/png": "[encoded data removed]",
      "text/plain": [
       "<Figure size 432x288 with 1 Axes>"
      ]
     },
     "metadata": {
      "needs_background": "light"
     },
     "output_type": "display_data"
    }
   ],
   "source": [
    "# Plot the train loss over time\n",
    "plt.plot(train_losses)\n",
    "# plt.ylim((0, 5))\n",
    "# naming the x axis\n",
    "plt.xlabel(\"x - Number of batch\")\n",
    "# naming the y axis\n",
    "plt.ylabel(\"y - Average loss\")\n",
    "plt.title(f\"Training losses - {'Bidirectional' if bidir else 'Forward'} {model_type}, {token_level} token.\")"
   ]
  },
  {
   "cell_type": "code",
   "execution_count": 6,
   "metadata": {},
   "outputs": [
    {
     "name": "stderr",
     "output_type": "stream",
     "text": [
      "100%|██████████| 1/1 [00:00<00:00, 3809.54it/s]"
     ]
    },
    {
     "name": "stdout",
     "output_type": "stream",
     "text": [
      "Final test loss (avg): 9.518586158752441\n",
      "Token accuracy:        0.25444444444444436\n",
      "Token perplexity:      13610.333047182772\n"
     ]
    },
    {
     "name": "stderr",
     "output_type": "stream",
     "text": [
      "\n"
     ]
    }
   ],
   "source": [
    "evaluator.prepare_evaluation_data()\n",
    "print(f\"Final test loss (avg): {evaluator.get_test_loss()}\")\n",
    "print(f\"Token accuracy:        {evaluator.get_token_accuracy()}\")\n",
    "print(f\"Token perplexity:      {evaluator.get_token_perplexity()}\")"
   ]
  },
  {
   "cell_type": "code",
   "execution_count": 7,
   "metadata": {},
   "outputs": [
    {
     "name": "stderr",
     "output_type": "stream",
     "text": [
      "100%|██████████| 1/1 [00:00<00:00, 1313.18it/s]\n"
     ]
    },
    {
     "data": {
      "image/png": "[encoded data removed]",
      "text/plain": [
       "<Figure size 432x288 with 1 Axes>"
      ]
     },
     "metadata": {
      "needs_background": "light"
     },
     "output_type": "display_data"
    }
   ],
   "source": [
    "evaluator.plot_line_loss_percentiles(percentiles=[75, 95, 99], smoothing=300, ylim=(-1, -1), outliers=1, legend=False)"
   ]
  },
  {
   "cell_type": "code",
   "execution_count": 8,
   "metadata": {},
   "outputs": [
    {
     "name": "stdout",
     "output_type": "stream",
     "text": [
      "(0.8844221105527638, <module 'matplotlib.pyplot' from '/home/jakob/miniconda3/envs/log-ml/lib/python3.9/site-packages/matplotlib/pyplot.py'>)\n"
     ]
    },
    {
     "data": {
      "image/png": "[encoded data removed]",
      "text/plain": [
       "<Figure size 432x288 with 1 Axes>"
      ]
     },
     "metadata": {
      "needs_background": "light"
     },
     "output_type": "display_data"
    }
   ],
   "source": [
    "print(evaluator.plot_roc_curve())"
   ]
  },
  {
   "cell_type": "code",
   "execution_count": null,
   "metadata": {},
   "outputs": [],
   "source": []
  },
  {
   "cell_type": "markdown",
   "metadata": {
    "id": "OkOOqtkYxGWy"
   },
   "source": [
    "# Spot check model performance"
   ]
  },
  {
   "cell_type": "code",
   "execution_count": 9,
   "metadata": {
    "colab": {
     "base_uri": "https://localhost:8080/"
    },
    "executionInfo": {
     "elapsed": 11223,
     "status": "ok",
     "timestamp": 1616791096518,
     "user": {
      "displayName": "김영우",
      "photoUrl": "",
      "userId": "05084645099903710941"
     },
     "user_tz": -60
    },
    "id": "GmgoSqb5xINj",
    "outputId": "1d838f19-479e-4e05-8fb4-b883894c6c03"
   },
   "outputs": [
    {
     "name": "stdout",
     "output_type": "stream",
     "text": [
      "Ground truth: tensor([ 9031,  6291,  9031,  9189,  9189,  9035, 19388, 19400, 19403])\n",
      "Model prediction: tensor([ 6369, 11932,  7524, 11932,  9031,  7524, 19002, 19403, 19403])\n",
      "Loss: 9.492345809936523\n"
     ]
    }
   ],
   "source": [
    "# Grab the first batch from the test_loader\n",
    "for batch in test_loader:\n",
    "    break\n",
    "\n",
    "split_batch = test_loader.split_batch(batch)\n",
    "\n",
    "loss, output = evaluator.eval_step(split_batch)\n",
    "# The input/output of tiered models have an additional dimension, which we have to squeeze out\n",
    "preds = torch.argmax(output[0], dim=-1)[0] if \"tiered\" in args[\"model_type\"] else torch.argmax(output[0], dim=-1)\n",
    "gt = batch[\"target\"][0][0][: len(preds)] if \"tiered\" in args[\"model_type\"] else batch[\"target\"][0][: len(preds)]\n",
    "\n",
    "# Get the ground truth ('target') of the first line in the batch extracted above\n",
    "print(f\"Ground truth: {gt}\")\n",
    "print(f\"Model prediction: {preds}\")\n",
    "print(f\"Loss: {loss}\")"
   ]
  },
  {
   "cell_type": "markdown",
   "metadata": {
    "id": "Gdp0FidFQhu3"
   },
   "source": [
    "\n",
    "# Overfit model\n",
    "\n",
    "### (100+ epochs, 1-10 log lines, train=test set)\n",
    "\n",
    "### (By overfitting LSTM model on a small dataset, let me check whether the model has ability to learn the relation between input and output)\n"
   ]
  },
  {
   "cell_type": "code",
   "execution_count": 10,
   "metadata": {
    "executionInfo": {
     "elapsed": 11534,
     "status": "ok",
     "timestamp": 1616791096836,
     "user": {
      "displayName": "김영우",
      "photoUrl": "",
      "userId": "05084645099903710941"
     },
     "user_tz": -60
    },
    "id": "-1B5aPzMxJlT",
    "scrolled": true
   },
   "outputs": [
    {
     "name": "stdout",
     "output_type": "stream",
     "text": [
      "Generated vocab with 19405 words.\n"
     ]
    },
    {
     "data": {
      "application/vnd.jupyter.widget-view+json": {
       "model_id": "e28c00da1588424585c11f82e6fafc3d",
       "version_major": 2,
       "version_minor": 0
      },
      "text/plain": [
       "  0%|          | 0/500 [00:00<?, ?it/s]"
      ]
     },
     "metadata": {},
     "output_type": "display_data"
    }
   ],
   "source": [
    "# Set batch_size to 1 so we train on a single line only\n",
    "args[\"trainer_config\"].train_batch_size = 1\n",
    "trainer, evaluator, train_loader, val_loader, test_loader = init_from_config_classes(**args)\n",
    "\n",
    "\n",
    "for batch in train_loader:\n",
    "    break\n",
    "\n",
    "split_batch = test_loader.split_batch(batch)\n",
    "\n",
    "train_losses = []\n",
    "epochs = 500\n",
    "# tqdm provides a nice and minimal progress bar + time estimate for the loop\n",
    "# If tqdm is not installed, simply comment the line out and use the alternatives below instead\n",
    "# for i in range(epochs):\n",
    "#    if i % 250 == 0:\n",
    "#        print('Epoch: {i}')\n",
    "for i in tqdm(range(epochs)):\n",
    "    loss, _ = trainer.train_step(split_batch)  # We ignore the early_stopping flag\n",
    "    train_losses.append(loss.item())"
   ]
  },
  {
   "cell_type": "code",
   "execution_count": 11,
   "metadata": {
    "colab": {
     "base_uri": "https://localhost:8080/",
     "height": 296
    },
    "executionInfo": {
     "elapsed": 230183,
     "status": "ok",
     "timestamp": 1616791315494,
     "user": {
      "displayName": "김영우",
      "photoUrl": "",
      "userId": "05084645099903710941"
     },
     "user_tz": -60
    },
    "id": "lyMnmxlJKxBP",
    "outputId": "2597d9cc-4d54-4003-99c1-5e451a619137"
   },
   "outputs": [
    {
     "data": {
      "text/plain": [
       "Text(0, 0.5, 'y - Average loss')"
      ]
     },
     "execution_count": 11,
     "metadata": {},
     "output_type": "execute_result"
    },
    {
     "data": {
      "image/png": "[encoded data removed]",
      "text/plain": [
       "<Figure size 432x288 with 1 Axes>"
      ]
     },
     "metadata": {
      "needs_background": "light"
     },
     "output_type": "display_data"
    }
   ],
   "source": [
    "# Plot the train loss over time\n",
    "plt.plot(train_losses)\n",
    "\n",
    "# naming the x axis\n",
    "plt.xlabel(\"x - Number of epoch\")\n",
    "# naming the y axis\n",
    "plt.ylabel(\"y - Average loss\")"
   ]
  },
  {
   "cell_type": "code",
   "execution_count": 12,
   "metadata": {
    "colab": {
     "base_uri": "https://localhost:8080/"
    },
    "executionInfo": {
     "elapsed": 230515,
     "status": "ok",
     "timestamp": 1616791315830,
     "user": {
      "displayName": "김영우",
      "photoUrl": "",
      "userId": "05084645099903710941"
     },
     "user_tz": -60
    },
    "id": "cgNPbcpU57Zp",
    "outputId": "696824d1-e674-421f-c2cd-aa43c965d854"
   },
   "outputs": [
    {
     "name": "stdout",
     "output_type": "stream",
     "text": [
      "Ground truth: tensor([ 9031,  2414,  9031,  9202,  9202,  9035, 19388, 19400, 19403])\n",
      "Model prediction: tensor([ 9031,  2414,  9031,  9202,  9202,  9035, 19388, 19400, 19403])\n",
      "Loss: 0.004669534508138895\n"
     ]
    }
   ],
   "source": [
    "loss, output = evaluator.eval_step(split_batch)\n",
    "# The input/output of tiered models have an additional dimension, which we have to squeeze out\n",
    "preds = torch.argmax(output[0], dim=-1)[0] if \"tiered\" in args[\"model_type\"] else torch.argmax(output[0], dim=-1)\n",
    "gt = batch[\"target\"][0][0][: len(preds)] if \"tiered\" in args[\"model_type\"] else batch[\"target\"][0][: len(preds)]\n",
    "\n",
    "# Get the ground truth ('target') of the first line in the batch extracted above\n",
    "print(f\"Ground truth: {gt}\")\n",
    "print(f\"Model prediction: {preds}\")\n",
    "print(f\"Loss: {loss}\")"
   ]
  },
  {
   "cell_type": "code",
   "execution_count": null,
   "metadata": {},
   "outputs": [],
   "source": []
  }
 ],
 "metadata": {
  "accelerator": "GPU",
  "colab": {
   "authorship_tag": "ABX9TyN1rIDpHKr5dyYDqgfJHqEe",
   "collapsed_sections": [],
   "mount_file_id": "1XofCw7SikjyLrq8NHxPt_E_C2eQksVny",
   "name": "Test_code(Dataloader + LSTM + Training loop).ipynb",
   "provenance": []
  },
  "interpreter": {
   "hash": "8d4f9f00e7711475c21a5f18d320a8828210fd25fad58adf8728543da7a1c125"
  },
  "kernelspec": {
   "display_name": "Python 3.8.8 64-bit ('log-data-project': conda)",
   "name": "python3"
  },
  "language_info": {
   "codemirror_mode": {
    "name": "ipython",
    "version": 3
   },
   "file_extension": ".py",
   "mimetype": "text/x-python",
   "name": "python",
   "nbconvert_exporter": "python",
   "pygments_lexer": "ipython3",
   "version": "3.9.7"
  },
  "metadata": {
   "interpreter": {
    "hash": "8d4f9f00e7711475c21a5f18d320a8828210fd25fad58adf8728543da7a1c125"
   }
  }
 },
 "nbformat": 4,
 "nbformat_minor": 1
}
