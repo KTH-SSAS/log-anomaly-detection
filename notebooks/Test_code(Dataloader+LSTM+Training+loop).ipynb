{
 "cells": [
  {
   "cell_type": "markdown",
   "metadata": {
    "id": "vHjrroZ3KHgR"
   },
   "source": [
    "*This is code to test the functionality of LSTM. If this code is messy, sorry in advance... this is my third or second time dealing with Pytorch...*"
   ]
  },
  {
   "cell_type": "code",
   "execution_count": 1,
   "metadata": {
    "executionInfo": {
     "elapsed": 1825,
     "status": "ok",
     "timestamp": 1616791087071,
     "user": {
      "displayName": "김영우",
      "photoUrl": "",
      "userId": "05084645099903710941"
     },
     "user_tz": -60
    },
    "id": "-jHRSWrKAiLV"
   },
   "outputs": [],
   "source": [
    "import torch\n",
    "import torch.nn as nn\n",
    "import torch.nn.functional as F\n",
    "import torch.optim as optim\n",
    "import numpy as np\n",
    "from scipy.stats import truncnorm\n",
    "import matplotlib.pyplot as plt\n",
    "from collections import OrderedDict\n",
    "import os\n",
    "import json\n",
    "from torch.utils.data import Dataset, DataLoader\n",
    "from torch.nn.utils.rnn import pack_padded_sequence, pad_packed_sequence\n",
    "import dask.dataframe as dd\n",
    "import pandas as pd\n",
    "\n",
    "\n",
    "cuda = torch.cuda.is_available()\n",
    "# torch.manual_seed(1)"
   ]
  },
  {
   "cell_type": "markdown",
   "metadata": {
    "id": "N7-RVMKFGxV_"
   },
   "source": [
    "# Parameter setting."
   ]
  },
  {
   "cell_type": "code",
   "execution_count": 2,
   "metadata": {
    "executionInfo": {
     "elapsed": 1826,
     "status": "ok",
     "timestamp": 1616791087076,
     "user": {
      "displayName": "김영우",
      "photoUrl": "",
      "userId": "05084645099903710941"
     },
     "user_tz": -60
    },
    "id": "U-taqYgpwa-l"
   },
   "outputs": [],
   "source": [
    "#manual setting for parameters\n",
    "cwd = os.getcwd()\n",
    "specpath = cwd + '/safekit/features/specs/lm/'\n",
    "datapath = cwd + '/data_examples/lanl/lm_feats/'\n",
    "layer_list = [10] #hidden units of each layer.\n",
    "lr = 1e-3 #learning rate .\n",
    "embedding_dim = 20 # one word/char will be mapped to this dimension.\n",
    "mb_size = 128 #size of mini batch.\n",
    "maxbadcount = 10\n",
    "patience = 20\n",
    "test = False\n",
    "delimiter = ' '\n",
    "direction = 'fwd' \n",
    "token_level = 'word'\n",
    "tiered = False"
   ]
  },
  {
   "cell_type": "code",
   "execution_count": 3,
   "metadata": {
    "executionInfo": {
     "elapsed": 1823,
     "status": "ok",
     "timestamp": 1616791087077,
     "user": {
      "displayName": "김영우",
      "photoUrl": "",
      "userId": "05084645099903710941"
     },
     "user_tz": -60
    },
    "id": "IvOiQ6jUwfEy"
   },
   "outputs": [],
   "source": [
    "if token_level == 'word':\n",
    "    datafolder = datapath + 'word_day_split/'\n",
    "    config = 'lanl_word_config.json'\n",
    "    jagged = False\n",
    "else:\n",
    "    datafolder = datapath + 'raw_day_split/'\n",
    "    config = 'lanl_char_config.json'\n",
    "    jagged = True\n",
    "\n",
    "if direction == 'fwd':\n",
    "    bid = False\n",
    "else: \n",
    "    bid = True\n",
    "\n",
    "if direction == 'fwd' and token_level == 'word':\n",
    "    skipsos = True\n",
    "else:\n",
    "    skipsos = False\n",
    "\n",
    "conf = json.load(open(specpath + config, 'r'))"
   ]
  },
  {
   "cell_type": "code",
   "execution_count": 4,
   "metadata": {
    "executionInfo": {
     "elapsed": 1819,
     "status": "ok",
     "timestamp": 1616791087077,
     "user": {
      "displayName": "김영우",
      "photoUrl": "",
      "userId": "05084645099903710941"
     },
     "user_tz": -60
    },
    "id": "pU9M0LU_wgKr"
   },
   "outputs": [],
   "source": [
    "vocab_size = conf['token_set_size']  \n",
    "weekend_days = conf[\"weekend_days\"]\n",
    "sentence_length = conf['sentence_length'] - 1 - int(skipsos) + int(bid)\n",
    "if test:\n",
    "    files = conf[\"test_files\"] # 5000 lines from day 2\n",
    "else:\n",
    "    files = conf[\"train_files\"] + conf[\"test_files\"] # 5000 lines from each of day 0, day 1 and day 2\n",
    "    # files = [str(i) + '.txt' for i in range(conf[\"num_days\"]) if i not in weekend_days]"
   ]
  },
  {
   "cell_type": "markdown",
   "metadata": {
    "id": "TKtKVxdBwlX7"
   },
   "source": [
    "# Class: Early Stopping"
   ]
  },
  {
   "cell_type": "code",
   "execution_count": 5,
   "metadata": {
    "executionInfo": {
     "elapsed": 1817,
     "status": "ok",
     "timestamp": 1616791087078,
     "user": {
      "displayName": "김영우",
      "photoUrl": "",
      "userId": "05084645099903710941"
     },
     "user_tz": -60
    },
    "id": "ZcThzOufwu9k"
   },
   "outputs": [],
   "source": [
    "class EarlyStopping:\n",
    "    \"\"\"Early stops the training if validation loss doesn't improve after a given patience.\"\"\"\n",
    "    def __init__(self, patience=7, verbose=False, delta=0, path='checkpoint.pt', trace_func=print):\n",
    "        \"\"\"\n",
    "        Args:\n",
    "            patience (int): How long to wait after last time validation loss improved.\n",
    "                            Default: 7\n",
    "            verbose (bool): If True, prints a message for each validation loss improvement. \n",
    "                            Default: False\n",
    "            delta (float): Minimum change in the monitored quantity to qualify as an improvement.\n",
    "                            Default: 0\n",
    "            path (str): Path for the checkpoint to be saved to.\n",
    "                            Default: 'checkpoint.pt'\n",
    "            trace_func (function): trace print function.\n",
    "                            Default: print            \n",
    "        \"\"\"\n",
    "        self.patience = patience\n",
    "        self.verbose = verbose\n",
    "        self.counter = 0\n",
    "        self.best_score = None\n",
    "        self.early_stop = False\n",
    "        self.val_loss_min = np.Inf\n",
    "        self.delta = delta\n",
    "        self.path = path\n",
    "        self.trace_func = trace_func\n",
    "    def __call__(self, val_loss, model):\n",
    "\n",
    "        score = -val_loss\n",
    "\n",
    "        if self.best_score is None:\n",
    "            self.best_score = score\n",
    "            self.save_checkpoint(val_loss, model)\n",
    "        elif score < self.best_score + self.delta:\n",
    "            self.counter += 1\n",
    "            if self.counter % 10 == 0:\n",
    "                self.trace_func(f'EarlyStopping counter: {self.counter} out of {self.patience}. Best loss: {-self.best_score}')\n",
    "            if self.counter >= self.patience:\n",
    "                self.early_stop = True\n",
    "        else:\n",
    "            self.best_score = score\n",
    "            self.save_checkpoint(val_loss, model)\n",
    "            self.counter = 0\n",
    "\n",
    "    def save_checkpoint(self, val_loss, model):\n",
    "        '''Saves model when validation loss decrease.'''\n",
    "        if self.verbose:\n",
    "            self.trace_func(f'Validation loss decreased ({self.val_loss_min:.6f} --> {val_loss:.6f}).  Saving model ...')\n",
    "        torch.save(model.state_dict(), self.path)\n",
    "        self.val_loss_min = val_loss"
   ]
  },
  {
   "cell_type": "markdown",
   "metadata": {
    "id": "Y3WovjO0wyFa"
   },
   "source": [
    "# Class: Dataset handler"
   ]
  },
  {
   "cell_type": "code",
   "execution_count": 6,
   "metadata": {
    "executionInfo": {
     "elapsed": 1814,
     "status": "ok",
     "timestamp": 1616791087079,
     "user": {
      "displayName": "김영우",
      "photoUrl": "",
      "userId": "05084645099903710941"
     },
     "user_tz": -60
    },
    "id": "lFqZ7Ld-MGQG"
   },
   "outputs": [],
   "source": [
    "def get_mask(lens, num_tokens):\n",
    "    \"\"\"\n",
    "    For masking output of lm_rnn for jagged sequences for correct gradient update.\n",
    "    Sequence length of 0 will output nan for that row of mask so don't do this.\n",
    "\n",
    "    :param lens: Numpy vector of sequence lengths\n",
    "    :param num_tokens: (int) Number of predicted tokens in sentence.\n",
    "    :return: A numpy array mask MB X num_tokens\n",
    "             For each row there are: lens[i] values of 1/lens[i]\n",
    "                                     followed by num_tokens - lens[i] zeros\n",
    "    \"\"\"\n",
    "    mask_template = torch.arange(num_tokens, dtype=torch.float)\n",
    "    return (mask_template < lens) / lens\n"
   ]
  },
  {
   "cell_type": "code",
   "execution_count": 7,
   "metadata": {
    "executionInfo": {
     "elapsed": 1810,
     "status": "ok",
     "timestamp": 1616791087079,
     "user": {
      "displayName": "김영우",
      "photoUrl": "",
      "userId": "05084645099903710941"
     },
     "user_tz": -60
    },
    "id": "WjEzp-zJwzO6"
   },
   "outputs": [],
   "source": [
    "class LazyTextDataset(Dataset):\n",
    "    def __init__(self, filename, sentence_length, skipsos, jagged, bidir, delimiter, transform=None):\n",
    "        self._filename = filename\n",
    "        self._total_data = 0\n",
    "        self.transform = transform\n",
    "        self.f = open(filename, 'r')\n",
    "        self._total_data = len(self.f.readlines()) - 1\n",
    "        self.f = open(filename, 'r')\n",
    "        \n",
    "        self.delimiter = delimiter\n",
    "        self.skipsos = skipsos\n",
    "        self.jagged = jagged\n",
    "        self.bidir = bidir\n",
    "        self.sentence_length = sentence_length\n",
    "       \n",
    "\n",
    "    def __getitem__(self, idx):\n",
    "        l = self.f.readline()\n",
    "        sentence_length = self.sentence_length - 1 - int(self.skipsos) + int(self.bidir)\n",
    "        if l != '':\n",
    "            line = torch.tensor([int(k) for k in l.strip().split(self.delimiter)])\n",
    "            self.endx = len(line) - int(not self.bidir)\n",
    "            self.endt = len(line) - int(self.bidir)\n",
    "\n",
    "            self.datadict = {'line': line[0],\n",
    "                            'second': line[1],\n",
    "                            'day': line[2],\n",
    "                            'user': line[3],\n",
    "                            'red': line[4],\n",
    "                            'x': line[(5 + int(self.jagged) + int(self.skipsos)):self.endx],\n",
    "                            't': line[(6 + int(self.jagged) + int(self.skipsos)):self.endt]}\n",
    "            if self.jagged:\n",
    "                self.datadict['length'] = line[5]\n",
    "                self.datadict['mask'] = get_mask(self.datadict['length'] - 2*int(self.bidir) - int(self.skipsos), self.sentence_length - 2*int(self.bidir))\n",
    "                # assert np.all(self.datadict['lengths'] <= x.get_shape().as_list()[1]), 'Sequence found greater than num_tokens_predicted'\n",
    "                # assert np.nonzero(self.datadict['lengths'])[0].shape[0] == self.datadict['lengths'].shape[0], \\\n",
    "                #     'Sequence lengths must be greater than zero.' \\\n",
    "                #     'Found zero length sequence in datadict[\"lengths\"]: %s' % self.datadict['lengths']  \n",
    "\n",
    "        return self.datadict\n",
    "    \n",
    "    def __len__(self):\n",
    "        return self._total_data"
   ]
  },
  {
   "cell_type": "markdown",
   "metadata": {},
   "source": [
    "# Data handler for a tiered model"
   ]
  },
  {
   "cell_type": "code",
   "execution_count": 8,
   "metadata": {},
   "outputs": [],
   "source": [
    "class OnlineLMBatcher: \n",
    "    # It seems Pytorch dataset and dataloader can't sort users... so I needed to build it from scratch..\n",
    "    def __init__(self, file_path, conf, context_size, skipsos, jagged, bidir, batch_size=100, num_steps=5, delimiter=\" \", skiprows=0):\n",
    "        cols = ['line', 'second', 'day', 'user', 'red'] + [f'x_{i}' for i in range(conf['sentence_length'])]\n",
    "        self.day_df = dd.read_csv(file_path, names=cols, sep = ' ', blocksize=25e3)\n",
    "        self.user_id = [] # set()\n",
    "        self.lst_avail_id = []\n",
    "        self.pre_lst_avail_id = []\n",
    "        self.df_id = {}\n",
    "        self.len_id = {}\n",
    "        self.saved_lstm = {}\n",
    "        self.context_size = context_size\n",
    "        self.sel_part = 0\n",
    "        self.current_num_batch = 0\n",
    "        self.num_steps = num_steps\n",
    "        self.batch_size = batch_size\n",
    "        self.staggler_num_steps = 1\n",
    "        self.jagged = jagged\n",
    "        self.skipsos = skipsos\n",
    "        self.bidir = bidir\n",
    "        self.sentence_length = (conf['sentence_length'] - 1) - int(self.skipsos) + int(self.bidir)\n",
    "        self.empty = False\n",
    "        \n",
    "    def filter_partition(self):\n",
    "        partition = self.day_df.get_partition(self.sel_part)\n",
    "        current_ids = partition.user.drop_duplicates().compute().tolist()\n",
    "        for c_id in current_ids:\n",
    "            if c_id not in self.user_id:\n",
    "                self.df_id[c_id] = None\n",
    "                self.saved_lstm[c_id] = (torch.zeros((self.context_size[0])),\\\n",
    "                                         torch.zeros((len(self.context_size), self.context_size[0])),\\\n",
    "                                         torch.zeros((len(self.context_size), self.context_size[0])))\n",
    "            self.df_id[c_id] = pd.concat([self.df_id[c_id], partition[partition.user == c_id].compute()], axis=0)\n",
    "            self.len_id[c_id] = len(self.df_id[c_id])\n",
    "\n",
    "        self.user_id = current_ids + [usr for usr in self.user_id if usr not in current_ids]\n",
    "        self.sel_part += 1   \n",
    "\n",
    "    def update_len(self):\n",
    "        self.lst_avail_id = []\n",
    "        self.current_num_batch = 0\n",
    "        for j in self.user_id:\n",
    "            above_num_steps = self.len_id[j] >= self.num_steps\n",
    "            self.current_num_batch += above_num_steps\n",
    "            if above_num_steps and j not in self.lst_avail_id:\n",
    "                self.lst_avail_id.append(j)\n",
    "    \n",
    "    def __iter__(self):\n",
    "        while not self.empty:\n",
    "            output = []\n",
    "            datadict = {}\n",
    "            ctxt_vector = torch.tensor([])\n",
    "            h_state = torch.tensor([])\n",
    "            c_state = torch.tensor([])\n",
    "            while output == []:\n",
    "                if self.current_num_batch < self.batch_size and self.sel_part < self.day_df.npartitions: # Read a new partition\n",
    "                    self.filter_partition()\n",
    "                    self.update_len()\n",
    "                elif self.current_num_batch == 0 and self.sel_part == self.day_df.npartitions: # Activate staggler mode\n",
    "                    self.batch_size = self.batch_size * self.num_steps\n",
    "                    self.num_steps = self.staggler_num_steps\n",
    "                    self.sel_part += 1\n",
    "                    self.update_len()\n",
    "                elif self.current_num_batch > 0: # Output data\n",
    "                    for j in self.lst_avail_id[:self.batch_size]:\n",
    "                        output.append(self.df_id[j].iloc[0:self.num_steps].values)                    \n",
    "                        ctxt_vector = torch.cat((ctxt_vector, torch.unsqueeze(self.saved_lstm[j][0], dim = 0)), dim = 0)                    \n",
    "                        h_state = torch.cat((h_state, torch.unsqueeze(self.saved_lstm[j][1], dim = 0)), dim = 0)\n",
    "                        c_state = torch.cat((c_state, torch.unsqueeze(self.saved_lstm[j][2], dim = 0)), dim = 0)\n",
    "                        self.df_id[j] = self.df_id[j].iloc[self.num_steps:, :]\n",
    "                        self.len_id[j] = len(self.df_id[j])\n",
    "                    self.pre_lst_avail_id = self.lst_avail_id\n",
    "                    self.update_len()\n",
    "                    output = torch.tensor(output).long()\n",
    "                    batch = torch.transpose(output, 0, 1)\n",
    "                    endx = batch.shape[2] - int(not self.bidir)\n",
    "                    endt = batch.shape[2] - int(self.bidir)\n",
    "                    datadict = {'line': batch[:, :, 0],\n",
    "                                'second': batch[:, :, 1],\n",
    "                                'day': batch[:, :, 2],\n",
    "                                'user': batch[:, :, 3],\n",
    "                                'red': batch[:, :, 4],\n",
    "                                'x': [batch[0, :, 5 + self.jagged + self.skipsos:endx]] * self.num_steps,\n",
    "                                't': [batch[0, :, 6 + self.jagged + self.skipsos:endt]] * self.num_steps,\n",
    "                                'context_vector': ctxt_vector, #,['context_vector'],\n",
    "                                'c_state_init': torch.transpose(h_state, 0,1), #state_triple['c_state_init'],\n",
    "                                'h_state_init': torch.transpose(c_state, 0,1)} #state_triple['h_state_init']}\n",
    "                    if self.jagged:\n",
    "                        datadict['lens'] = [batch[0, :, 5] - self.skipsos] * self.num_steps\n",
    "                        datadict['masks'] = [get_mask(seq_length - 2 * self.bidir, sentence_length - 2 * self.bidir) for\n",
    "                                             seq_length in datadict['lens']]\n",
    "                else: # Empty dataset.\n",
    "                    self.empty = True\n",
    "                    break\n",
    "\n",
    "            yield datadict\n",
    "    \n",
    "    def update_state(self, ctxt_vectors, h_states, c_states):\n",
    "        ctxt_vectors = ctxt_vectors.data\n",
    "        h_states = torch.transpose(h_states.data, 0,1)\n",
    "        c_states = torch.transpose(c_states.data, 0,1)\n",
    "        for usr, ctxt_v, h_state, c_state in zip(self.pre_lst_avail_id[:self.batch_size], ctxt_vectors, h_states, c_states):\n",
    "            self.saved_lstm[usr] = (ctxt_v, h_state, c_state) "
   ]
  },
  {
   "cell_type": "code",
   "execution_count": 9,
   "metadata": {},
   "outputs": [],
   "source": [
    "context_size = [10]\n",
    "num_steps = 3\n",
    "data_handler = OnlineLMBatcher(datafolder + files[0], conf, context_size, skipsos, jagged, bid, batch_size=64, num_steps=num_steps, delimiter=\" \", skiprows=0)\n"
   ]
  },
  {
   "cell_type": "code",
   "execution_count": 10,
   "metadata": {
    "scrolled": true
   },
   "outputs": [
    {
     "name": "stdout",
     "output_type": "stream",
     "text": [
      "tensor([[ 217,  227,  230,  113,  146,  147,  149,  156,  161, 1538,  166,  167,\n",
      "          183,  186, 2496,  187,  193,  202,  205,  242, 2510, 1548,  181,  184,\n",
      "         2640,  111, 2096, 1542,  189, 2660,  221, 1621, 2731,  724, 2740, 2741,\n",
      "         2139,  803, 2150, 1500,  747,  764, 2858,  121,  150,  784,  177,  117,\n",
      "         2973,  126,  729,  832,  833,  841,  752,  797, 2088,  725, 1550, 3198,\n",
      "         3288, 2122, 3396, 1507],\n",
      "        [ 218,  228,  231,  114,  732,  148,  742,  157,  759, 1539,  762,  168,\n",
      "          794,  800, 2497,  188,  194, 2505,  206,  243, 2511, 1549,  182,  185,\n",
      "         2728,  112, 2097, 2110,  190, 2661,  222, 1622, 2732, 2093, 2806, 2808,\n",
      "         2745, 2295, 2151, 2790,  748,  765, 2859,  122,  151,  785,  178,  118,\n",
      "         2974,  127, 2979, 3003,  834, 2160,  753,  798, 3136, 2383, 2283, 3199,\n",
      "         3289, 2123, 3397, 2388],\n",
      "        [ 824,  229,  232,  717,  733,  741, 2101,  158, 2483, 1540,  763,  169,\n",
      "          795,  801, 2498,  804,  195, 3153,  207,  839, 2512, 2115, 1573,  799,\n",
      "         2788,  714, 2261, 2111,  191, 2662,  223, 2669, 2733, 2094, 2874, 2809,\n",
      "         3066, 2296, 2756, 2971,  749,  766, 3055,  123,  743,  786,  179, 2972,\n",
      "         2975,  728, 2980, 3004,  835, 3006, 3058, 3065, 3137, 2384, 2284, 3200,\n",
      "         3290, 2409, 3456, 2389]])\n",
      "tensor([[ 208,  825,  837, 2670, 3749,  128,  744,  153,  760, 2803,  170, 2297,\n",
      "          805,  196, 3216,  203, 3473,  233, 2789, 2385, 1506,  159, 1574,  836,\n",
      "          718, 2857, 3197,  719, 3943,  750, 1589,  802, 3995,  740,  180,  796,\n",
      "         4068, 4075, 2390, 2262,  152, 2405, 1569,  715, 2092, 2734, 4161, 2095,\n",
      "         3346, 4176, 2877, 2882, 2387,  716, 3056,  726,  727, 2116,  820,  821,\n",
      "         2580, 2581, 1508,  154],\n",
      "        [ 209,  826,  838, 3081, 3750,  129,  745,  746,  761, 2804,  768, 2747,\n",
      "          806,  197, 3468,  204, 3525,  234, 3054, 2386, 3861,  160, 1575, 3005,\n",
      "         1501, 3511, 3335,  720, 3996,  751, 3148, 1592, 4064, 1516, 2880, 1577,\n",
      "         4069, 4165, 3455, 2263, 1532, 2406, 1570, 2086, 2976, 2735, 4162, 2978,\n",
      "         3521, 4270, 4177, 4179, 2977, 2856, 4341, 3269, 3270, 2117, 3282, 3283,\n",
      "         2791, 2582, 3139,  155],\n",
      "        [ 210,  827, 2157, 3082, 3751,  130, 1528, 3757, 1543, 2805,  769, 2748,\n",
      "          807,  198, 3469, 3770, 3771,  235, 3854, 3138, 4074,  757, 1576, 3526,\n",
      "         1502, 3937, 3512,  721, 4667, 1535, 3946, 1593, 4065, 1517, 4007, 1578,\n",
      "         4155, 4251, 4076, 2643, 1533, 2645, 1571, 2087, 4158, 3263, 4246, 3201,\n",
      "         4174, 4358, 4271, 4600, 4250, 4340, 4665, 4345, 4346, 2118, 4368, 4369,\n",
      "         4443, 4444, 4447,  754]])\n",
      "tensor([[ 211,  828, 2158, 3291, 3752,  131, 1529, 1544, 3206,  770, 2749, 2499,\n",
      "          199, 3470, 4604,  236, 3855, 3264,  758, 2412, 1503, 3513,  722, 1536,\n",
      "         1594, 4066, 1518, 1579, 4156, 4254, 2644, 1534, 2646, 1572, 2641, 3451,\n",
      "         4247, 3517, 2119,  755, 1568, 2513,  734, 3463, 2757, 1523, 1541, 4610,\n",
      "         2472, 2504, 2506, 3189,  192,  119,  124, 2265, 2484, 2408, 2417,  224,\n",
      "          115, 3620,  140,  144],\n",
      "        [ 212,  829, 2309, 3292, 3857,  132, 1530, 1545, 3207,  771, 2750, 2500,\n",
      "          200, 3633, 4605,  237, 3856, 3265, 2482, 2413, 1504, 3625,  723, 1537,\n",
      "         1595, 4067, 1519, 1580, 4157, 4511, 2736, 2271, 2647, 2127, 2642, 3452,\n",
      "         4248, 3628, 2120,  756, 3145, 2514,  735, 3697, 2997, 1524, 2401, 4611,\n",
      "         3260, 3284, 3285, 3190, 2420,  120,  125, 2266, 2583, 2489, 2591,  831,\n",
      "          116, 3621,  141,  145],\n",
      "        [ 213, 1611, 2426, 3359, 3858,  133, 1531, 1546, 3344,  772, 3149, 2501,\n",
      "          201, 3634, 4912,  238, 4758, 3266, 3864, 2414, 2259, 3626, 1505, 2107,\n",
      "         2140, 4151, 1520, 1581, 4243, 4512, 2737, 2272, 2868, 2878, 3132, 4159,\n",
      "         4249, 3629, 2121, 2109, 4461, 2515,  736, 4525, 2998, 1525, 2402, 4681,\n",
      "         4759, 4777, 4778, 3191, 2657, 3576, 2860, 2267, 2867, 2584, 2746, 2663,\n",
      "         3575, 3622,  142,  731]])\n",
      "tensor([[2102, 2648,  773,  175, 2415, 2502, 5085,  808,  214, 1612, 2427, 3360,\n",
      "         2260, 4152, 5139, 3267, 2863, 1521, 1526, 1582, 2475, 5243, 3345, 2281,\n",
      "         3144, 3863, 2403, 2869, 4678, 3068, 2893, 3623, 5429, 4163, 4363, 3150,\n",
      "         4666,  134, 4818, 5541, 5545, 3271, 3272, 3273, 5607, 5609, 4682, 5690,\n",
      "         4981, 2738,  165, 5821, 4160, 3057, 2108,  840,  767, 4918, 6041, 6051,\n",
      "         3192, 2601,  830, 3527],\n",
      "        [2103, 2802,  774,  176, 2588, 2655, 5086,  809,  215, 1613, 2428, 3597,\n",
      "         2473, 4153, 5341, 3268, 3579, 1522, 1527, 1583, 2476, 5244, 3460, 2282,\n",
      "         5253, 4827, 2404, 3060, 5357, 3069, 2894, 5427, 5430, 4164, 4364, 3464,\n",
      "         5517,  135, 5525, 5542, 6174, 3940, 3941, 3942, 5608, 5610, 4683, 5691,\n",
      "         4982, 2739, 2407, 5822, 4960, 5825, 2273, 2509, 5977, 4919, 6134, 6154,\n",
      "         3193, 2602, 2598, 3884],\n",
      "        [2104, 2870,  775,  793, 2589, 2656, 5087,  810,  216, 1614, 2429, 3710,\n",
      "         2474, 4154, 5342, 3453, 5142, 3997, 2100, 1584, 5241, 5434, 3461, 2585,\n",
      "         5254, 5349, 2485, 3061, 5537, 3471, 2895, 5428, 5431, 5432, 5443, 3465,\n",
      "         5518,  136, 5526, 5543, 6255, 5603, 5604, 5605, 5907, 5611, 4684, 5692,\n",
      "         4983, 2792, 5787, 5901, 4961, 5826, 2274, 5845, 5978, 5988, 6135, 6155,\n",
      "         3194, 2603, 6251, 6252]])\n"
     ]
    }
   ],
   "source": [
    "for i, data in enumerate(data_handler):\n",
    "    print(data['line'])\n",
    "    if i == 3:\n",
    "        break"
   ]
  },
  {
   "cell_type": "markdown",
   "metadata": {
    "id": "B5GDnhW1w1Vj"
   },
   "source": [
    "# Class: LSTM Models (To-do: tiered model)"
   ]
  },
  {
   "cell_type": "code",
   "execution_count": 11,
   "metadata": {
    "executionInfo": {
     "elapsed": 2115,
     "status": "ok",
     "timestamp": 1616791087388,
     "user": {
      "displayName": "김영우",
      "photoUrl": "",
      "userId": "05084645099903710941"
     },
     "user_tz": -60
    },
    "id": "CfBrtJ5Cw2qS"
   },
   "outputs": [],
   "source": [
    "\n",
    "def truncated_normal_(tensor, mean=0, std=1):\n",
    "    size = tensor.shape\n",
    "    tmp = tensor.new_empty(size + (4,)).normal_()\n",
    "    valid = (tmp < 2) & (tmp > -2)\n",
    "    ind = valid.max(-1, keepdim=True)[1]\n",
    "    tensor.data.copy_(tmp.gather(-1, ind).squeeze(-1))\n",
    "    tensor.data.mul_(std).add_(mean)\n",
    "    return tensor    \n",
    "\n",
    "def initialize_weights(net, initrange = 1.0):\n",
    "    for m in net.modules():\n",
    "        if isinstance(m, nn.Linear):\n",
    "            initrange *= 1.0/np.sqrt(m.weight.data.shape[1])\n",
    "            m.weight.data = initrange * truncated_normal_(m.weight.data, mean = 0.0, std =1)\n",
    "            m.bias.data.zero_()\n",
    "        elif isinstance(m, nn.Embedding):\n",
    "            truncated_normal_(m.weight.data, mean = 0.0, std =1)\n",
    "\n",
    "\n",
    "class Fwd_LSTM(nn.Module):\n",
    "    def __init__(self, layers, vocab_size, embedding_dim, jagged = False, tiered =False, context_vector_size = 0):\n",
    "        super().__init__()\n",
    "        self.layers = layers \n",
    "        self.jagged = jagged\n",
    "        self.vocab_size = vocab_size\n",
    "        self.embedding_dim = embedding_dim\n",
    "        self.tiered = tiered\n",
    "        self.bid = False\n",
    "\n",
    "        self.embeddings = nn.Embedding(vocab_size, embedding_dim)\n",
    "\n",
    "        if self.tiered:\n",
    "            self.embedding_dim += context_vector_size  \n",
    "\n",
    "#         self.stacked_lstm = build_stacked_lstm(self.layers, self.embedding_dim, self.bid)\n",
    "        self.stacked_lstm = nn.LSTM(self.embedding_dim, self.layers[0], len(self.layers), batch_first = True, bidirectional = self.bid)\n",
    "        self.tanh = nn.Tanh()\n",
    "        self.hidden2tag = nn.Linear(self.layers[-1], self.vocab_size)\n",
    "\n",
    "        initialize_weights(self)\n",
    "\n",
    "    def forward(self, sequences, lengths = None, context_vectors = None):\n",
    "        x_lookups = self.embeddings(sequences)  # batch x seq len x embedding\n",
    "        if self.tiered:\n",
    "            cat_x_lookups = torch.tensor([])\n",
    "            x_lookups= x_lookups.transpose(0,1) #  seq len x batch x embedding\n",
    "            for x_lookup in x_lookups: #for each batch x embedding.\\\n",
    "                x_lookup = torch.unsqueeze(torch.cat((x_lookup, context_vectors), dim=1), dim=0) # 1 x batch x embedding\n",
    "                cat_x_lookups = torch.cat((cat_x_lookups, x_lookup), dim = 0) # concatenate so n x batch x embedding (n length of a concatenated sequence)\n",
    "            x_lookups = cat_x_lookups.transpose(0,1) #batch x seq len x embedding + context \n",
    "            \n",
    "        lstm_in = x_lookups\n",
    "        if self.jagged:\n",
    "            lstm_in = pack_padded_sequence(lstm_in, lengths, batch_first=True)\n",
    "        lstm_out, (hx, cx)  = self.stacked_lstm(x_lookups)\n",
    "        if self.jagged: \n",
    "            lstm_out = pad_packed_sequence(lstm_out, batch_first=True)\n",
    "\n",
    "        output = self.tanh(lstm_out)\n",
    "        tag_size = self.hidden2tag(output)\n",
    "        return tag_size, lstm_out, hx\n",
    "    \n",
    "class Bid_LSTM(nn.Module):\n",
    "    def __init__(self, layers, vocab_size, embedding_dim, jagged = False, tiered =False, context_vector_size = 0):\n",
    "        super().__init__()\n",
    "        \n",
    "        self.layers = layers \n",
    "        self.jagged = jagged\n",
    "        self.vocab_size = vocab_size\n",
    "        self.embedding_dim = embedding_dim\n",
    "        self.tiered = tiered\n",
    "        self.bid = True\n",
    "        \n",
    "        self.embeddings = nn.Embedding(self.vocab_size, self.embedding_dim)\n",
    "        \n",
    "        if self.tiered:\n",
    "            self.embedding_dim += context_vector_size\n",
    "\n",
    "        self.stacked_bid_lstm = nn.LSTM(self.embedding_dim, self.layers[0], len(self.layers), batch_first = True, bidirectional = self.bid)\n",
    "        self.tanh = nn.Tanh()\n",
    "        self.hidden2tag = nn.Linear(self.layers[-1] * 2, self.vocab_size)\n",
    "\n",
    "        initialize_weights(self)\n",
    "\n",
    "    def forward(self, sequences, lengths = None, context_vectors = None):   \n",
    "        x_lookups = self.embeddings(sequences) #batch size, sequence length, embedded dimension\n",
    "        if self.tiered:\n",
    "            x_lookups = torch.cat(x_lookups, context_vectors, dim=2)\n",
    "\n",
    "        lstm_in = x_lookups\n",
    "        if self.jagged:\n",
    "            lstm_in = pack_padded_sequence(lstm_in, lengths, batch_first=True)            \n",
    "            \n",
    "        lstm_out, (hx, cx)  = self.stacked_bid_lstm(x_lookups)\n",
    "        if self.jagged:\n",
    "            lstm_out = pad_packed_sequence(lstm_out, batch_first=True)\n",
    "        \n",
    "        output = self.tanh(lstm_out)\n",
    "        tag_size = self.hidden2tag(output)\n",
    "           \n",
    "        return tag_size, lstm_out, hx\n",
    "    \n",
    "\n",
    "class Context_LSTM(nn.Module):\n",
    "    def __init__(self, ctxt_lv_layers, input_dim):\n",
    "        super().__init__()\n",
    "        \n",
    "        self.ctxt_lv_layers = ctxt_lv_layers \n",
    "        self.input_dim = input_dim\n",
    "        self.context_lstm_layers = nn.LSTM(self.input_dim, self.ctxt_lv_layers[0], len(ctxt_lv_layers), batch_first = True, bidirectional = bid)\n",
    "        \n",
    "        initialize_weights(self)\n",
    "\n",
    "    def forward(self, lower_lv_outputs, final_hidden, context_h, context_c, seq_len = None):   \n",
    "        if seq_len is not None:\n",
    "            mean_hidden = torch.sum(lower_lv_outputs, dim = 1) / seq_len\n",
    "        else:\n",
    "            mean_hidden = torch.mean(lower_lv_outputs, dim = 1)\n",
    "        cat_input = torch.cat((mean_hidden, final_hidden[-1]), dim=1)\n",
    "        synthetic_input = torch.unsqueeze(cat_input, dim = 1)\n",
    "\n",
    "        output, (context_hx, context_cx) = self.context_lstm_layers(synthetic_input, (context_h, context_c))\n",
    "        return output, context_hx, context_cx \n",
    "    \n",
    "class Tiered_LSTM(nn.Module):\n",
    "    def __init__(self, low_lv_layers, ctxt_lv_layers, vocab_size, embedding_dim, context_vector_size, \n",
    "                 jagged = False, bid = False):\n",
    "        \n",
    "        super().__init__()\n",
    "        self.bid = bid\n",
    "        if self.bid:\n",
    "            self.model = Bid_LSTM\n",
    "        else:\n",
    "            self.model = Fwd_LSTM\n",
    "        self.low_lv_layers = low_lv_layers \n",
    "        self.ctxt_lv_layers = ctxt_lv_layers\n",
    "        self.jagged = jagged\n",
    "        self.vocab_size = vocab_size\n",
    "        self.embedding_dim = embedding_dim\n",
    "        \n",
    "        self.low_lv_lstm = self.model(self.low_lv_layers, self.vocab_size, self.embedding_dim, \n",
    "                                      jagged = self.jagged, tiered = True, context_vector_size = self.ctxt_lv_layers[-1])\n",
    "        self.ctxt_lv_lstm = Context_LSTM(self.ctxt_lv_layers, low_lv_layers[-1] * 2)\n",
    "\n",
    "        initialize_weights(self)\n",
    "\n",
    "    def forward(self, user_sequences, context_vectors, context_h, context_c, lengths = None):\n",
    "        self.ctxt_vector = context_vectors\n",
    "        self.ctxt_h = context_h\n",
    "        self.ctxt_c = context_c\n",
    "        tag_output = []\n",
    "        for sequences in user_sequences: #number of steps (e.g., 3), number of users (e.g., 64), lengths of sequences (e.g., 10)\n",
    "            tag_size, low_lv_lstm_outputs, final_hidden = self.low_lv_lstm(sequences, lengths = lengths, context_vectors = self.ctxt_vector)\n",
    "            self.ctxt_vector, self.ctxt_h, self.ctxt_c = self.ctxt_lv_lstm(low_lv_lstm_outputs, final_hidden, self.ctxt_h, self.ctxt_c, seq_len = lengths)\n",
    "            tag_output.append(tag_size)\n",
    "            self.ctxt_vector = torch.squeeze(self.ctxt_vector, dim = 1)\n",
    "        return tag_output, self.ctxt_vector, self.ctxt_h, self.ctxt_c"
   ]
  },
  {
   "cell_type": "markdown",
   "metadata": {
    "id": "7gjJnoCzw7i7"
   },
   "source": [
    "# Function: Train and evaluate LSTM models"
   ]
  },
  {
   "cell_type": "code",
   "execution_count": 12,
   "metadata": {
    "executionInfo": {
     "elapsed": 2113,
     "status": "ok",
     "timestamp": 1616791087389,
     "user": {
      "displayName": "김영우",
      "photoUrl": "",
      "userId": "05084645099903710941"
     },
     "user_tz": -60
    },
    "id": "p62Yl6TBw9Wr"
   },
   "outputs": [],
   "source": [
    "def train_model(model, criterion, optimizer, scheduler, early_stopping, dataloader, cuda, jagged, epochs=1):\n",
    "    \n",
    "    train_losses = []\n",
    "\n",
    "    flag = False\n",
    "    for i in range(epochs):\n",
    "        for j, data in enumerate(dataloader):\n",
    "            model.train()\n",
    "            optimizer.zero_grad()\n",
    "            X = data['x']\n",
    "            Y = data['t']\n",
    "            L = data.get('length')\n",
    "            M = data.get('mask')\n",
    "            if cuda:\n",
    "                X = X.cuda()\n",
    "                Y = Y.cuda()\n",
    "                if jagged:\n",
    "                    L = L.cuda()\n",
    "                    M = M.cuda()\n",
    "            output, lstm_out, hx = model(X, lengths = L) \n",
    "            token_losses = criterion(output.transpose(1,2), Y)\n",
    "            if jagged:\n",
    "                masked_losses = token_losses * M\n",
    "                line_losses = torch.sum(masked_losses, dim = 1)\n",
    "            else:\n",
    "                line_losses = torch.mean(token_losses, dim = 1)\n",
    "                \n",
    "            loss = torch.mean(line_losses, dim = 0)\n",
    "\n",
    "\n",
    "            train_losses.append(loss.item())\n",
    "            loss.backward()\n",
    "            optimizer.step()\n",
    "\n",
    "            early_stopping(loss, model)\n",
    "\n",
    "            if early_stopping.early_stop:\n",
    "                print(\"Early stopping\")\n",
    "                early_stopping.early_stop = False\n",
    "                early_stopping.counter = 0\n",
    "                flag = True\n",
    "                break\n",
    "            scheduler.step()\n",
    "        if flag == True:\n",
    "            break\n",
    "        \n",
    "        if i % 500 == 0:\n",
    "            print(f'{i}th epoch loss: {loss.item()}')\n",
    "    \n",
    "    model.load_state_dict(torch.load('checkpoint.pt'))\n",
    "\n",
    "    return model, train_losses\n",
    "\n",
    "def eval_model(model, criterion, dataloader, cuda, epochs=1):\n",
    "    \n",
    "    valid_losses = []\n",
    "\n",
    "    for i in range(epochs):\n",
    "        model.eval() # prep model for evaluation\n",
    "        for j, data in enumerate(dataloader):\n",
    "            X = data['x']\n",
    "            Y = data['t']\n",
    "            L = data.get('length')\n",
    "            M = data.get('mask')\n",
    "            if cuda:\n",
    "                X = X.cuda()\n",
    "                Y = Y.cuda()\n",
    "                if jagged:\n",
    "                    L = L.cuda()\n",
    "                    M = M.cuda()\n",
    "            output, lstm_out, hx = model(X, lengths = L)\n",
    "            token_losses = criterion(output.transpose(1,2), Y)\n",
    "            if jagged:\n",
    "                masked_losses = token_losses * M\n",
    "                line_losses = torch.sum(masked_losses, dim = 1)\n",
    "            else:\n",
    "                line_losses = torch.mean(token_losses, dim = 1)\n",
    "            loss = torch.mean(line_losses, dim = 0)\n",
    "            valid_losses.append(loss.item())\n",
    "    avg_valid_losses = np.mean(valid_losses)\n",
    "    print(f'Average validated loss: {avg_valid_losses}')\n",
    "        \n",
    "    return valid_losses, np.mean(valid_losses)"
   ]
  },
  {
   "cell_type": "code",
   "execution_count": 13,
   "metadata": {},
   "outputs": [],
   "source": [
    "def train_tiered(model, criterion, optimizer, scheduler, early_stopping, data_handler, cuda, jagged, epochs=1):\n",
    "\n",
    "    for batch in data_handler:\n",
    "        model.train()\n",
    "        optimizer.zero_grad()\n",
    "        if data_handler.empty == False:\n",
    "            X = batch['x']\n",
    "            C_V =  batch['context_vector']\n",
    "            C_H = batch['c_state_init']\n",
    "            C_C = batch['h_state_init']\n",
    "            Y = batch['t']\n",
    "            L = batch.get('length')\n",
    "            M = batch.get('mask')\n",
    "            if cuda:\n",
    "                X = X.cuda()\n",
    "                Y = Y.cuda()\n",
    "                if jagged:\n",
    "                    L = L.cuda()\n",
    "                    M = M.cuda()\n",
    "            tag_outputs, ctxt_vector, ctxt_h, ctxt_c = model(X, C_V, C_H, C_C, lengths = L)    \n",
    "            data_handler.update_state(ctxt_vector, ctxt_h, ctxt_c)\n",
    "\n",
    "            total_loss = 0\n",
    "            for output, true_y in zip(tag_outputs, Y):\n",
    "                token_losses = criterion(output.transpose(1,2), true_y)\n",
    "                if jagged:\n",
    "                    masked_losses = token_losses * M\n",
    "                    line_losses = torch.sum(masked_losses, dim = 1)\n",
    "                else:\n",
    "                    line_losses = torch.mean(token_losses, dim = 1)\n",
    "                loss = torch.mean(line_losses, dim = 0)\n",
    "                total_loss += loss\n",
    "                \n",
    "            total_loss.backward()\n",
    "            optimizer.step()\n",
    "            scheduler.step()\n",
    "            early_stopping(total_loss, model)\n",
    "        else:\n",
    "            print('Done')\n",
    "\n",
    "        if early_stopping.early_stop:\n",
    "            print(\"Early stopping\")\n",
    "            early_stopping.early_stop = False\n",
    "            early_stopping.counter = 0\n",
    "            break"
   ]
  },
  {
   "cell_type": "markdown",
   "metadata": {
    "id": "AZZoblRnxAmS"
   },
   "source": [
    "\n",
    "# Train model\n",
    "\n",
    "## Forward LSTM\n"
   ]
  },
  {
   "cell_type": "code",
   "execution_count": 14,
   "metadata": {
    "colab": {
     "base_uri": "https://localhost:8080/"
    },
    "executionInfo": {
     "elapsed": 11235,
     "status": "ok",
     "timestamp": 1616791096516,
     "user": {
      "displayName": "김영우",
      "photoUrl": "",
      "userId": "05084645099903710941"
     },
     "user_tz": -60
    },
    "id": "TuqWq1c6xBTb",
    "outputId": "23c787ba-c1df-44be-bfd8-0ccf5f9b2d23",
    "scrolled": true
   },
   "outputs": [
    {
     "name": "stdout",
     "output_type": "stream",
     "text": [
      "Training on 0head.txt\n",
      "Validation loss decreased (inf --> 10.267607).  Saving model ...\n",
      "Validation loss decreased (10.267607 --> 10.249669).  Saving model ...\n",
      "Validation loss decreased (10.249669 --> 10.242489).  Saving model ...\n",
      "Validation loss decreased (10.242489 --> 10.239690).  Saving model ...\n",
      "Validation loss decreased (10.239690 --> 10.235801).  Saving model ...\n",
      "Validation loss decreased (10.235801 --> 10.227585).  Saving model ...\n",
      "Validation loss decreased (10.227585 --> 10.225038).  Saving model ...\n",
      "Validation loss decreased (10.225038 --> 10.216071).  Saving model ...\n",
      "Validation loss decreased (10.216071 --> 10.211380).  Saving model ...\n",
      "Validation loss decreased (10.211380 --> 10.199918).  Saving model ...\n",
      "Validation loss decreased (10.199918 --> 10.187543).  Saving model ...\n",
      "Validation loss decreased (10.187543 --> 10.185026).  Saving model ...\n",
      "Validation loss decreased (10.185026 --> 10.183716).  Saving model ...\n",
      "Validation loss decreased (10.183716 --> 10.170731).  Saving model ...\n",
      "Validation loss decreased (10.170731 --> 10.164155).  Saving model ...\n",
      "Validation loss decreased (10.164155 --> 10.160100).  Saving model ...\n",
      "Validation loss decreased (10.160100 --> 10.154974).  Saving model ...\n",
      "Validation loss decreased (10.154974 --> 10.146931).  Saving model ...\n",
      "Validation loss decreased (10.146931 --> 10.137600).  Saving model ...\n",
      "Validation loss decreased (10.137600 --> 10.114287).  Saving model ...\n",
      "Validation loss decreased (10.114287 --> 10.104498).  Saving model ...\n",
      "Validation loss decreased (10.104498 --> 10.099924).  Saving model ...\n",
      "Validation loss decreased (10.099924 --> 10.096033).  Saving model ...\n",
      "Validation loss decreased (10.096033 --> 10.083307).  Saving model ...\n",
      "Validation loss decreased (10.083307 --> 10.077273).  Saving model ...\n",
      "Validation loss decreased (10.077273 --> 10.056475).  Saving model ...\n",
      "Validation loss decreased (10.056475 --> 10.054604).  Saving model ...\n",
      "Validation loss decreased (10.054604 --> 10.041602).  Saving model ...\n",
      "Validation loss decreased (10.041602 --> 10.031924).  Saving model ...\n",
      "0th epoch loss: 10.0319242477417\n",
      "Evaluating on 1head.txt\n",
      "Average validated loss: 10.041326713562011\n",
      "Training on 1head.txt\n",
      "Validation loss decreased (10.031924 --> 10.025528).  Saving model ...\n",
      "Validation loss decreased (10.025528 --> 10.009987).  Saving model ...\n",
      "Validation loss decreased (10.009987 --> 10.007651).  Saving model ...\n",
      "Validation loss decreased (10.007651 --> 9.998669).  Saving model ...\n",
      "Validation loss decreased (9.998669 --> 9.996099).  Saving model ...\n",
      "Validation loss decreased (9.996099 --> 9.987434).  Saving model ...\n",
      "Validation loss decreased (9.987434 --> 9.972578).  Saving model ...\n",
      "Validation loss decreased (9.972578 --> 9.960989).  Saving model ...\n",
      "Validation loss decreased (9.960989 --> 9.957727).  Saving model ...\n",
      "Validation loss decreased (9.957727 --> 9.953501).  Saving model ...\n",
      "Validation loss decreased (9.953501 --> 9.945300).  Saving model ...\n",
      "Validation loss decreased (9.945300 --> 9.933399).  Saving model ...\n",
      "Validation loss decreased (9.933399 --> 9.914695).  Saving model ...\n",
      "Validation loss decreased (9.914695 --> 9.907543).  Saving model ...\n",
      "Validation loss decreased (9.907543 --> 9.890150).  Saving model ...\n",
      "Validation loss decreased (9.890150 --> 9.887424).  Saving model ...\n",
      "Validation loss decreased (9.887424 --> 9.859329).  Saving model ...\n",
      "Validation loss decreased (9.859329 --> 9.846726).  Saving model ...\n",
      "Validation loss decreased (9.846726 --> 9.823849).  Saving model ...\n",
      "Validation loss decreased (9.823849 --> 9.813616).  Saving model ...\n",
      "Validation loss decreased (9.813616 --> 9.799974).  Saving model ...\n",
      "Validation loss decreased (9.799974 --> 9.782872).  Saving model ...\n",
      "Validation loss decreased (9.782872 --> 9.778118).  Saving model ...\n",
      "Validation loss decreased (9.778118 --> 9.755149).  Saving model ...\n",
      "Validation loss decreased (9.755149 --> 9.741795).  Saving model ...\n",
      "Validation loss decreased (9.741795 --> 9.739416).  Saving model ...\n",
      "Validation loss decreased (9.739416 --> 9.684388).  Saving model ...\n",
      "0th epoch loss: 9.684388160705566\n",
      "Evaluating on 2head.txt\n",
      "Average validated loss: 9.719424390792847\n",
      "CPU times: user 1min 55s, sys: 39 s, total: 2min 34s\n",
      "Wall time: 56.8 s\n"
     ]
    }
   ],
   "source": [
    "%%time\n",
    "model = Fwd_LSTM(layer_list, vocab_size, embedding_dim) #For bidirectional LSTM: bid_LSTM(layer_list, vocab_size, embedding_dim)\n",
    "if cuda:\n",
    "    model.cuda()\n",
    "criterion = nn.CrossEntropyLoss(reduction= 'none')\n",
    "optimizer = torch.optim.Adam(model.parameters(), lr=lr)\n",
    "scheduler = torch.optim.lr_scheduler.StepLR(optimizer, step_size= 20, gamma=0.99)\n",
    "early_stopping = EarlyStopping(patience=patience, verbose=True)\n",
    "full_losses= []\n",
    "epochs = 1\n",
    "for i, file in enumerate(files[:-1]):\n",
    "    print(f'Training on {file}')\n",
    "    dataset = LazyTextDataset(datafolder + file, sentence_length, skipsos, jagged, bid, delimiter)\n",
    "    dataloader = DataLoader(dataset, batch_size=128, num_workers=0)\n",
    "    model, train_losses = train_model(model, criterion, optimizer, scheduler, early_stopping, dataloader, cuda, jagged, epochs)\n",
    "    full_losses = full_losses + train_losses\n",
    "    \n",
    "    print(f'Evaluating on {files[i+1]}')\n",
    "    dataset = LazyTextDataset(datafolder + files[i+1], sentence_length, skipsos, jagged, bid, delimiter)\n",
    "    dataloader = DataLoader(dataset, batch_size=128, num_workers=0)\n",
    "    valid_losses, avg_valid_loss = eval_model(model, criterion, dataloader, cuda)"
   ]
  },
  {
   "cell_type": "code",
   "execution_count": 15,
   "metadata": {
    "colab": {
     "base_uri": "https://localhost:8080/",
     "height": 296
    },
    "executionInfo": {
     "elapsed": 11229,
     "status": "ok",
     "timestamp": 1616791096517,
     "user": {
      "displayName": "김영우",
      "photoUrl": "",
      "userId": "05084645099903710941"
     },
     "user_tz": -60
    },
    "id": "wgNW3kYvxD85",
    "outputId": "6c6abf92-1313-4a07-8d68-1d58bde4bd6b"
   },
   "outputs": [
    {
     "data": {
      "text/plain": [
       "Text(0, 0.5, 'y - Average loss')"
      ]
     },
     "execution_count": 15,
     "metadata": {},
     "output_type": "execute_result"
    },
    {
     "data": {
      "image/png": "[encoded data removed]",
      "text/plain": [
       "<Figure size 432x288 with 1 Axes>"
      ]
     },
     "metadata": {
      "needs_background": "light"
     },
     "output_type": "display_data"
    }
   ],
   "source": [
    "plt.plot(full_losses)\n",
    "\n",
    "# naming the x axis\n",
    "plt.xlabel('x - Number of batch')\n",
    "# naming the y axis\n",
    "plt.ylabel('y - Average loss')\n",
    "  "
   ]
  },
  {
   "cell_type": "markdown",
   "metadata": {
    "id": "OkOOqtkYxGWy"
   },
   "source": [
    "# Check forward LSTM model"
   ]
  },
  {
   "cell_type": "code",
   "execution_count": 16,
   "metadata": {
    "colab": {
     "base_uri": "https://localhost:8080/"
    },
    "executionInfo": {
     "elapsed": 11223,
     "status": "ok",
     "timestamp": 1616791096518,
     "user": {
      "displayName": "김영우",
      "photoUrl": "",
      "userId": "05084645099903710941"
     },
     "user_tz": -60
    },
    "id": "GmgoSqb5xINj",
    "outputId": "1d838f19-479e-4e05-8fb4-b883894c6c03"
   },
   "outputs": [
    {
     "name": "stdout",
     "output_type": "stream",
     "text": [
      "Ground truth: tensor([ 4, 23,  4, 14, 14,  6, 16, 21,  9,  1])\n",
      "Model prediction: tensor([[ 1819,    84,   229,    84,   303, 17356,     1,   530,   530,     1]])\n"
     ]
    }
   ],
   "source": [
    "file = \"2head.txt\"\n",
    "dataset = LazyTextDataset(datafolder + file, sentence_length, skipsos, jagged, bid, delimiter)\n",
    "model.eval()\n",
    "test_input = torch.unsqueeze(dataset[1]['x'], dim=0)\n",
    "if cuda:\n",
    "    test_input = test_input.cuda()\n",
    "output, lstm_out, hx = model(test_input)\n",
    "print(f\"Ground truth: {dataset[1]['t']}\")\n",
    "print(f'Model prediction: {torch.argmax(output, dim=2)}')"
   ]
  },
  {
   "cell_type": "markdown",
   "metadata": {},
   "source": [
    "# Train the tiered model"
   ]
  },
  {
   "cell_type": "code",
   "execution_count": 17,
   "metadata": {
    "scrolled": true
   },
   "outputs": [],
   "source": [
    "context_size = [10]\n",
    "layer_list = [5] #hidden units of each layer.\n",
    "num_steps = 3\n",
    "model = Tiered_LSTM(layer_list, context_size, vocab_size, embedding_dim, context_size[0], jagged = False, bid = False)\n",
    "data_handler = OnlineLMBatcher(datafolder + files[0], conf, context_size, skipsos, jagged, bid, batch_size=64, num_steps=num_steps, delimiter=\" \", skiprows=0)\n",
    "criterion = nn.CrossEntropyLoss(reduction= 'none')\n",
    "optimizer = torch.optim.Adam(model.parameters(), lr=lr)\n",
    "scheduler = torch.optim.lr_scheduler.StepLR(optimizer, step_size= 20, gamma=0.99)\n",
    "early_stopping = EarlyStopping(patience=patience, verbose=True)"
   ]
  },
  {
   "cell_type": "code",
   "execution_count": 18,
   "metadata": {
    "scrolled": true
   },
   "outputs": [
    {
     "name": "stdout",
     "output_type": "stream",
     "text": [
      "Validation loss decreased (inf --> 30.887043).  Saving model ...\n",
      "Validation loss decreased (30.887043 --> 30.862492).  Saving model ...\n",
      "Validation loss decreased (30.862492 --> 30.834791).  Saving model ...\n",
      "Validation loss decreased (30.834791 --> 30.819456).  Saving model ...\n",
      "Validation loss decreased (30.819456 --> 30.793690).  Saving model ...\n",
      "Validation loss decreased (30.793690 --> 30.762918).  Saving model ...\n",
      "Validation loss decreased (30.762918 --> 30.725296).  Saving model ...\n",
      "Validation loss decreased (30.725296 --> 30.714081).  Saving model ...\n",
      "Validation loss decreased (30.714081 --> 30.693302).  Saving model ...\n",
      "Validation loss decreased (30.693302 --> 30.670261).  Saving model ...\n",
      "Validation loss decreased (30.670261 --> 30.660814).  Saving model ...\n",
      "Validation loss decreased (30.660814 --> 30.571449).  Saving model ...\n",
      "Validation loss decreased (30.571449 --> 30.548882).  Saving model ...\n",
      "Validation loss decreased (30.548882 --> 30.536812).  Saving model ...\n",
      "Validation loss decreased (30.536812 --> 30.536362).  Saving model ...\n",
      "Validation loss decreased (30.536362 --> 30.530045).  Saving model ...\n",
      "Validation loss decreased (30.530045 --> 30.500912).  Saving model ...\n",
      "Validation loss decreased (30.500912 --> 30.427296).  Saving model ...\n",
      "Validation loss decreased (30.427296 --> 30.370159).  Saving model ...\n",
      "Validation loss decreased (30.370159 --> 30.337616).  Saving model ...\n",
      "Validation loss decreased (30.337616 --> 30.336147).  Saving model ...\n",
      "Validation loss decreased (30.336147 --> 30.255283).  Saving model ...\n",
      "Validation loss decreased (30.255283 --> 30.162014).  Saving model ...\n",
      "Validation loss decreased (30.162014 --> 30.112034).  Saving model ...\n",
      "Validation loss decreased (30.112034 --> 30.074112).  Saving model ...\n",
      "Validation loss decreased (30.074112 --> 30.051611).  Saving model ...\n",
      "Validation loss decreased (30.051611 --> 30.027695).  Saving model ...\n",
      "Validation loss decreased (30.027695 --> 29.994713).  Saving model ...\n",
      "Validation loss decreased (29.994713 --> 29.946760).  Saving model ...\n",
      "Validation loss decreased (29.946760 --> 29.906895).  Saving model ...\n",
      "Validation loss decreased (29.906895 --> 29.821072).  Saving model ...\n",
      "Validation loss decreased (29.821072 --> 29.820454).  Saving model ...\n",
      "Validation loss decreased (29.820454 --> 29.739193).  Saving model ...\n",
      "Validation loss decreased (29.739193 --> 29.737438).  Saving model ...\n",
      "Validation loss decreased (29.737438 --> 29.577541).  Saving model ...\n",
      "Validation loss decreased (29.577541 --> 29.573891).  Saving model ...\n",
      "Validation loss decreased (29.573891 --> 29.481441).  Saving model ...\n",
      "Validation loss decreased (29.481441 --> 29.434799).  Saving model ...\n",
      "Validation loss decreased (29.434799 --> 29.425442).  Saving model ...\n",
      "Validation loss decreased (29.425442 --> 29.406656).  Saving model ...\n",
      "Validation loss decreased (29.406656 --> 29.271685).  Saving model ...\n",
      "Validation loss decreased (29.271685 --> 29.237314).  Saving model ...\n",
      "Validation loss decreased (29.237314 --> 29.232994).  Saving model ...\n",
      "Validation loss decreased (29.232994 --> 29.216663).  Saving model ...\n",
      "Validation loss decreased (29.216663 --> 29.175264).  Saving model ...\n",
      "Validation loss decreased (29.175264 --> 29.155388).  Saving model ...\n",
      "Validation loss decreased (29.155388 --> 28.900059).  Saving model ...\n",
      "Validation loss decreased (28.900059 --> 28.882462).  Saving model ...\n",
      "Validation loss decreased (28.882462 --> 28.839268).  Saving model ...\n",
      "Validation loss decreased (28.839268 --> 28.752462).  Saving model ...\n",
      "Validation loss decreased (28.752462 --> 28.581043).  Saving model ...\n",
      "Validation loss decreased (28.581043 --> 28.292152).  Saving model ...\n",
      "Validation loss decreased (28.292152 --> 28.053537).  Saving model ...\n",
      "Validation loss decreased (28.053537 --> 28.028568).  Saving model ...\n",
      "Validation loss decreased (28.028568 --> 27.947346).  Saving model ...\n",
      "Validation loss decreased (27.947346 --> 27.746544).  Saving model ...\n",
      "Validation loss decreased (27.746544 --> 27.242599).  Saving model ...\n",
      "EarlyStopping counter: 10 out of 20. Best loss: 27.242599487304688\n",
      "Validation loss decreased (27.242599 --> 27.086794).  Saving model ...\n",
      "Validation loss decreased (27.086794 --> 26.840731).  Saving model ...\n",
      "Validation loss decreased (26.840731 --> 26.718981).  Saving model ...\n",
      "Validation loss decreased (26.718981 --> 26.638056).  Saving model ...\n",
      "Validation loss decreased (26.638056 --> 26.556887).  Saving model ...\n",
      "Validation loss decreased (26.556887 --> 26.475615).  Saving model ...\n",
      "Validation loss decreased (26.475615 --> 26.352806).  Saving model ...\n",
      "Validation loss decreased (26.352806 --> 26.271667).  Saving model ...\n",
      "Validation loss decreased (26.271667 --> 26.191246).  Saving model ...\n",
      "Validation loss decreased (26.191246 --> 26.029713).  Saving model ...\n",
      "Validation loss decreased (26.029713 --> 25.845234).  Saving model ...\n",
      "Validation loss decreased (25.845234 --> 25.752659).  Saving model ...\n",
      "Validation loss decreased (25.752659 --> 25.449299).  Saving model ...\n",
      "Validation loss decreased (25.449299 --> 25.297966).  Saving model ...\n",
      "Validation loss decreased (25.297966 --> 25.144903).  Saving model ...\n",
      "Validation loss decreased (25.144903 --> 24.918600).  Saving model ...\n",
      "Validation loss decreased (24.918600 --> 24.709351).  Saving model ...\n",
      "Validation loss decreased (24.709351 --> 24.698015).  Saving model ...\n",
      "Validation loss decreased (24.698015 --> 24.624844).  Saving model ...\n",
      "Validation loss decreased (24.624844 --> 24.177969).  Saving model ...\n",
      "Validation loss decreased (24.177969 --> 9.205985).  Saving model ...\n",
      "Validation loss decreased (9.205985 --> 8.932480).  Saving model ...\n",
      "Done\n"
     ]
    }
   ],
   "source": [
    "train_tiered(model, criterion, optimizer, scheduler, early_stopping, data_handler, cuda, jagged, epochs=1)"
   ]
  },
  {
   "cell_type": "markdown",
   "metadata": {
    "id": "Gdp0FidFQhu3"
   },
   "source": [
    "### (By overfitting LSTM model on a small dataset, let me check whether the model has ability to learn the relation between input and output)"
   ]
  },
  {
   "cell_type": "code",
   "execution_count": 19,
   "metadata": {
    "executionInfo": {
     "elapsed": 11534,
     "status": "ok",
     "timestamp": 1616791096836,
     "user": {
      "displayName": "김영우",
      "photoUrl": "",
      "userId": "05084645099903710941"
     },
     "user_tz": -60
    },
    "id": "-1B5aPzMxJlT"
   },
   "outputs": [],
   "source": [
    "# mb_size = 1\n",
    "test_batch_size = 1\n",
    "sos = torch.zeros(mb_size * test_batch_size, 1, dtype=torch.long)\n",
    "eos = torch.ones(mb_size * test_batch_size, 1, dtype=torch.long)\n",
    "ex_sentences = torch.LongTensor(mb_size * test_batch_size, conf['sentence_length']-2 ).random_(0, vocab_size)\n",
    "example_sentences = torch.cat((sos, ex_sentences, eos), axis=1)\n",
    "\n",
    "startx = int(skipsos)+ int(jagged)\n",
    "startt = int(skipsos)+ int(jagged) + 1\n",
    "endx = example_sentences.shape[1]- int(not(bid))\n",
    "endt = example_sentences.shape[1] - int(bid)\n",
    "\n",
    "input_sentences = np.split(example_sentences[:,startx:endx], test_batch_size)\n",
    "output_sentences = np.split(example_sentences[:,startt:endt], test_batch_size)\n",
    "data = []\n",
    "\n",
    "for x, t in zip(input_sentences, output_sentences):\n",
    "    tmp_dict={}\n",
    "    tmp_dict['x'] = x\n",
    "    tmp_dict['t'] = t\n",
    "    data.append(tmp_dict)"
   ]
  },
  {
   "cell_type": "code",
   "execution_count": 20,
   "metadata": {
    "colab": {
     "base_uri": "https://localhost:8080/"
    },
    "executionInfo": {
     "elapsed": 230187,
     "status": "ok",
     "timestamp": 1616791315493,
     "user": {
      "displayName": "김영우",
      "photoUrl": "",
      "userId": "05084645099903710941"
     },
     "user_tz": -60
    },
    "id": "cOM7J2Y_xK67",
    "outputId": "816014f3-6122-4e12-a120-97c2d928c7a3"
   },
   "outputs": [
    {
     "name": "stdout",
     "output_type": "stream",
     "text": [
      "0th epoch loss: 10.267622947692871\n",
      "500th epoch loss: 6.830822467803955\n",
      "1000th epoch loss: 5.730741024017334\n",
      "1500th epoch loss: 5.094110012054443\n",
      "2000th epoch loss: 4.64980936050415\n",
      "2500th epoch loss: 4.304615020751953\n",
      "CPU times: user 49min 31s, sys: 18min 3s, total: 1h 7min 34s\n",
      "Wall time: 31min 5s\n"
     ]
    }
   ],
   "source": [
    "%%time\n",
    "model = Fwd_LSTM(layer_list, vocab_size, embedding_dim) #For bidirectional LSTM bid_LSTM(layer_list, vocab_size, embedding_dim)\n",
    "if cuda:\n",
    "    model.cuda()\n",
    "criterion = nn.CrossEntropyLoss(reduction = 'none')\n",
    "optimizer = torch.optim.Adam(model.parameters(), lr=lr)\n",
    "scheduler = torch.optim.lr_scheduler.StepLR(optimizer, step_size= 20, gamma=1)\n",
    "early_stopping = EarlyStopping(patience=patience, verbose=False)\n",
    "epochs = 3000\n",
    "model, train_losses = train_model(model, criterion, optimizer, scheduler, early_stopping, data, cuda, jagged, epochs)"
   ]
  },
  {
   "cell_type": "code",
   "execution_count": 21,
   "metadata": {
    "colab": {
     "base_uri": "https://localhost:8080/",
     "height": 296
    },
    "executionInfo": {
     "elapsed": 230183,
     "status": "ok",
     "timestamp": 1616791315494,
     "user": {
      "displayName": "김영우",
      "photoUrl": "",
      "userId": "05084645099903710941"
     },
     "user_tz": -60
    },
    "id": "lyMnmxlJKxBP",
    "outputId": "2597d9cc-4d54-4003-99c1-5e451a619137"
   },
   "outputs": [
    {
     "data": {
      "text/plain": [
       "Text(0, 0.5, 'y - Average loss')"
      ]
     },
     "execution_count": 21,
     "metadata": {},
     "output_type": "execute_result"
    },
    {
     "data": {
      "image/png": "[encoded data removed]",
      "text/plain": [
       "<Figure size 432x288 with 1 Axes>"
      ]
     },
     "metadata": {
      "needs_background": "light"
     },
     "output_type": "display_data"
    }
   ],
   "source": [
    "plt.plot(train_losses)\n",
    "\n",
    "# naming the x axis\n",
    "plt.xlabel('x - Number of batch')\n",
    "# naming the y axis\n",
    "plt.ylabel('y - Average loss')\n",
    "  "
   ]
  },
  {
   "cell_type": "code",
   "execution_count": 22,
   "metadata": {
    "colab": {
     "base_uri": "https://localhost:8080/"
    },
    "executionInfo": {
     "elapsed": 230515,
     "status": "ok",
     "timestamp": 1616791315830,
     "user": {
      "displayName": "김영우",
      "photoUrl": "",
      "userId": "05084645099903710941"
     },
     "user_tz": -60
    },
    "id": "cgNPbcpU57Zp",
    "outputId": "696824d1-e674-421f-c2cd-aa43c965d854"
   },
   "outputs": [
    {
     "name": "stdout",
     "output_type": "stream",
     "text": [
      "Ground truth: \n",
      " tensor([[21348, 23271,  9777, 10794, 20819, 21461, 10261, 18006, 26942,     1],\n",
      "        [16986,  9585, 26224,  6343, 14685, 14458,  7014,  2104,  8851,     1],\n",
      "        [ 5455, 21333, 19518, 16742,  8826, 11628, 25545, 15454,  9366,     1],\n",
      "        [20787, 23147,  5041, 27811, 14159,  5125, 14308, 12235,  9412,     1],\n",
      "        [24634, 25814, 16463,  8804,  2954, 15159, 27832,  5075, 15858,     1]])\n",
      "Model prediction: \n",
      " tensor([[ 8039,  8039,  8039,  8039,  8039,  8039,  8039, 14326,     1,     1],\n",
      "        [11509,  9585,   269,     1,     1,     1, 14326, 13434,  8456,     1],\n",
      "        [12355, 23564, 27811, 20540, 20540, 20147,  9901,  5851,     1,     1],\n",
      "        [ 4089, 11509, 12355,     1,     1,     1,     1,     1,     1,     1],\n",
      "        [23948,  4089,     1,     1,     1,  8039, 10580, 10580,     1,     1]])\n"
     ]
    }
   ],
   "source": [
    "test_input = data[0]['x']\n",
    "if cuda:\n",
    "    test_input = test_input.cuda()\n",
    "output, lstm_out, hx = model(test_input[:5,:])\n",
    "print(f\"Ground truth: \\n {data[0]['t'][:5,:]}\")\n",
    "print(f'Model prediction: \\n {torch.argmax(output, dim=2)}')"
   ]
  },
  {
   "cell_type": "code",
   "execution_count": null,
   "metadata": {},
   "outputs": [],
   "source": []
  }
 ],
 "metadata": {
  "accelerator": "GPU",
  "colab": {
   "authorship_tag": "ABX9TyN1rIDpHKr5dyYDqgfJHqEe",
   "collapsed_sections": [],
   "mount_file_id": "1XofCw7SikjyLrq8NHxPt_E_C2eQksVny",
   "name": "Test_code(Dataloader + LSTM + Training loop).ipynb",
   "provenance": []
  },
  "kernelspec": {
   "display_name": "Python 3",
   "language": "python",
   "name": "python3"
  },
  "language_info": {
   "codemirror_mode": {
    "name": "ipython",
    "version": 3
   },
   "file_extension": ".py",
   "mimetype": "text/x-python",
   "name": "python",
   "nbconvert_exporter": "python",
   "pygments_lexer": "ipython3",
   "version": "3.8.8"
  }
 },
 "nbformat": 4,
 "nbformat_minor": 1
}
