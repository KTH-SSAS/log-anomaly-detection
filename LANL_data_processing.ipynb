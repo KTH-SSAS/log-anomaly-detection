{
 "cells": [
  {
   "cell_type": "markdown",
   "metadata": {},
   "source": [
    "# Data preparation\n",
    "Please save data in a folder (`data`) and install dask, which performs lazy execution for dataframe, before executing the following cells.\n",
    "\n",
    "```\n",
    "pip install dask\n",
    "pip install dask[dataframe]\n",
    "\n",
    "```"
   ]
  },
  {
   "cell_type": "code",
   "execution_count": 1,
   "metadata": {},
   "outputs": [],
   "source": [
    "import dask.dataframe as dd"
   ]
  },
  {
   "cell_type": "code",
   "execution_count": 2,
   "metadata": {},
   "outputs": [],
   "source": [
    "auth_df = dd.read_csv('data/auth.txt', sep =\",|@\",  engine='python')"
   ]
  },
  {
   "cell_type": "markdown",
   "metadata": {},
   "source": [
    "In the original paper, the author said the following fields of the data are used. \n",
    "\n",
    "> *Source user, Destination user, Source pc, Destination pc,\n",
    "Authentication type, Logon type, Authentication orientation,\n",
    "Success/failure.*\n",
    "\n",
    "But, the original data has following fields:\n",
    "\n",
    "> *Time, Source user@Domain,Destination user@Domain, Source computer, Destination computer, Authentication type, Logon type, Authentication orientation, Success/failure*\n",
    "\n",
    "Therefore, we remove time and two domain fields."
   ]
  },
  {
   "cell_type": "code",
   "execution_count": 3,
   "metadata": {
    "scrolled": true
   },
   "outputs": [],
   "source": [
    "drop_cols = ['1', 'C586', 'C586.1']\n",
    "auth_df = auth_df.drop(drop_cols, axis=1)"
   ]
  },
  {
   "cell_type": "code",
   "execution_count": 4,
   "metadata": {
    "scrolled": true
   },
   "outputs": [
    {
     "data": {
      "text/html": [
       "<div>\n",
       "<style scoped>\n",
       "    .dataframe tbody tr th:only-of-type {\n",
       "        vertical-align: middle;\n",
       "    }\n",
       "\n",
       "    .dataframe tbody tr th {\n",
       "        vertical-align: top;\n",
       "    }\n",
       "\n",
       "    .dataframe thead th {\n",
       "        text-align: right;\n",
       "    }\n",
       "</style>\n",
       "<table border=\"1\" class=\"dataframe\">\n",
       "  <thead>\n",
       "    <tr style=\"text-align: right;\">\n",
       "      <th></th>\n",
       "      <th>ANONYMOUS LOGON</th>\n",
       "      <th>ANONYMOUS LOGON.1</th>\n",
       "      <th>C1250</th>\n",
       "      <th>C586.2</th>\n",
       "      <th>NTLM</th>\n",
       "      <th>Network</th>\n",
       "      <th>LogOn</th>\n",
       "      <th>Success</th>\n",
       "    </tr>\n",
       "  </thead>\n",
       "  <tbody>\n",
       "    <tr>\n",
       "      <th>0</th>\n",
       "      <td>ANONYMOUS LOGON</td>\n",
       "      <td>ANONYMOUS LOGON</td>\n",
       "      <td>C586</td>\n",
       "      <td>C586</td>\n",
       "      <td>?</td>\n",
       "      <td>Network</td>\n",
       "      <td>LogOff</td>\n",
       "      <td>Success</td>\n",
       "    </tr>\n",
       "    <tr>\n",
       "      <th>1</th>\n",
       "      <td>C101$</td>\n",
       "      <td>C101$</td>\n",
       "      <td>C988</td>\n",
       "      <td>C988</td>\n",
       "      <td>?</td>\n",
       "      <td>Network</td>\n",
       "      <td>LogOff</td>\n",
       "      <td>Success</td>\n",
       "    </tr>\n",
       "    <tr>\n",
       "      <th>2</th>\n",
       "      <td>C1020$</td>\n",
       "      <td>SYSTEM</td>\n",
       "      <td>C1020</td>\n",
       "      <td>C1020</td>\n",
       "      <td>Negotiate</td>\n",
       "      <td>Service</td>\n",
       "      <td>LogOn</td>\n",
       "      <td>Success</td>\n",
       "    </tr>\n",
       "    <tr>\n",
       "      <th>3</th>\n",
       "      <td>C1021$</td>\n",
       "      <td>C1021$</td>\n",
       "      <td>C1021</td>\n",
       "      <td>C625</td>\n",
       "      <td>Kerberos</td>\n",
       "      <td>Network</td>\n",
       "      <td>LogOn</td>\n",
       "      <td>Success</td>\n",
       "    </tr>\n",
       "    <tr>\n",
       "      <th>4</th>\n",
       "      <td>C1035$</td>\n",
       "      <td>C1035$</td>\n",
       "      <td>C1035</td>\n",
       "      <td>C586</td>\n",
       "      <td>Kerberos</td>\n",
       "      <td>Network</td>\n",
       "      <td>LogOn</td>\n",
       "      <td>Success</td>\n",
       "    </tr>\n",
       "  </tbody>\n",
       "</table>\n",
       "</div>"
      ],
      "text/plain": [
       "   ANONYMOUS LOGON ANONYMOUS LOGON.1  C1250 C586.2       NTLM  Network  \\\n",
       "0  ANONYMOUS LOGON   ANONYMOUS LOGON   C586   C586          ?  Network   \n",
       "1            C101$             C101$   C988   C988          ?  Network   \n",
       "2           C1020$            SYSTEM  C1020  C1020  Negotiate  Service   \n",
       "3           C1021$            C1021$  C1021   C625   Kerberos  Network   \n",
       "4           C1035$            C1035$  C1035   C586   Kerberos  Network   \n",
       "\n",
       "    LogOn  Success  \n",
       "0  LogOff  Success  \n",
       "1  LogOff  Success  \n",
       "2   LogOn  Success  \n",
       "3   LogOn  Success  \n",
       "4   LogOn  Success  "
      ]
     },
     "execution_count": 4,
     "metadata": {},
     "output_type": "execute_result"
    }
   ],
   "source": [
    "auth_df.head()"
   ]
  }
 ],
 "metadata": {
  "kernelspec": {
   "display_name": "Python 3",
   "language": "python",
   "name": "python3"
  },
  "language_info": {
   "codemirror_mode": {
    "name": "ipython",
    "version": 3
   },
   "file_extension": ".py",
   "mimetype": "text/x-python",
   "name": "python",
   "nbconvert_exporter": "python",
   "pygments_lexer": "ipython3",
   "version": "3.6.12"
  }
 },
 "nbformat": 4,
 "nbformat_minor": 4
}
